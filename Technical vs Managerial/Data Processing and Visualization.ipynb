{
 "cells": [
  {
   "cell_type": "code",
   "metadata": {
    "tags": [],
    "cell_id": "00000-1a37ceeb-a813-4240-b5f1-4884c7953a2c",
    "deepnote_to_be_reexecuted": false,
    "source_hash": "9b82ee11",
    "execution_start": 1640898419323,
    "execution_millis": 277603,
    "deepnote_app_coordinates": {
     "x": 0,
     "y": 0,
     "w": 12,
     "h": 5
    },
    "deepnote_cell_type": "code"
   },
   "source": "import pandas as pd",
   "execution_count": 1,
   "outputs": []
  },
  {
   "cell_type": "code",
   "metadata": {
    "tags": [],
    "cell_id": "00001-fa88059b-2708-4234-823e-4c4686f1aa01",
    "deepnote_to_be_reexecuted": false,
    "source_hash": "a89ac661",
    "execution_start": 1640898419324,
    "execution_millis": 100,
    "deepnote_app_coordinates": {
     "x": 0,
     "y": 6,
     "w": 12,
     "h": 5
    },
    "deepnote_cell_type": "code"
   },
   "source": "df = pd.read_json('data.json')\ndf",
   "execution_count": 2,
   "outputs": [
    {
     "output_type": "execute_result",
     "execution_count": 2,
     "data": {
      "application/vnd.deepnote.dataframe.v3+json": {
       "column_count": 5,
       "row_count": 287,
       "columns": [
        {
         "name": "companyName",
         "dtype": "object",
         "stats": {
          "unique_count": 114,
          "nan_count": 0,
          "categories": [
           {
            "name": "Recurate | Resale Made Easy",
            "count": 6
           },
           {
            "name": "InDebted",
            "count": 4
           },
           {
            "name": "112 others",
            "count": 277
           }
          ]
         }
        },
        {
         "name": "companySize",
         "dtype": "object",
         "stats": {
          "unique_count": 4,
          "nan_count": 0,
          "categories": [
           {
            "name": "11-50 EMPLOYEES",
            "count": 140
           },
           {
            "name": "51-200 EMPLOYEES",
            "count": 85
           },
           {
            "name": "2 others",
            "count": 62
           }
          ]
         }
        },
        {
         "name": "tagline",
         "dtype": "object",
         "stats": {
          "unique_count": 114,
          "nan_count": 0,
          "categories": [
           {
            "name": "Recurate enables a beautifully integrated resale marketplace directly on ecommerce stores",
            "count": 6
           },
           {
            "name": "To be the preferred choice of customers to support their debt free journey, everywhere",
            "count": 4
           },
           {
            "name": "112 others",
            "count": 277
           }
          ]
         }
        },
        {
         "name": "title",
         "dtype": "object",
         "stats": {
          "unique_count": 223,
          "nan_count": 0,
          "categories": [
           {
            "name": "Sales Development Representative",
            "count": 8
           },
           {
            "name": "Senior Software Engineer",
            "count": 8
           },
           {
            "name": "221 others",
            "count": 271
           }
          ]
         }
        },
        {
         "name": "details",
         "dtype": "object",
         "stats": {
          "unique_count": 260,
          "nan_count": 0,
          "categories": [
           {
            "name": "Remote possible",
            "count": 6
           },
           {
            "name": "",
            "count": 4
           },
           {
            "name": "258 others",
            "count": 277
           }
          ]
         }
        },
        {
         "name": "_deepnote_index_column",
         "dtype": "int64"
        }
       ],
       "rows": [
        {
         "companyName": "Recurate | Resale Made Easy",
         "companySize": "11-50 EMPLOYEES",
         "tagline": "Recurate enables a beautifully integrated resale marketplace directly on ecommerce stores",
         "title": "Brand Success Manager",
         "details": "Remote possible • $60k – $85k",
         "_deepnote_index_column": 0
        },
        {
         "companyName": "batelle.com",
         "companySize": "11-50 EMPLOYEES",
         "tagline": "Teach parents how to put their children to bed in under 5 minutes, within a week",
         "title": "Senior Sales Consultant",
         "details": "Remote possible • $45k – $65k",
         "_deepnote_index_column": 1
        },
        {
         "companyName": "Stellic",
         "companySize": "11-50 EMPLOYEES",
         "tagline": "Powering the path to graduation",
         "title": "VP, Sales",
         "details": "San Francisco Bay Area • Remote possible • $280k – $360k • 0.25% – 0.5%",
         "_deepnote_index_column": 2
        },
        {
         "companyName": "Stellic",
         "companySize": "11-50 EMPLOYEES",
         "tagline": "Powering the path to graduation",
         "title": "Head of Partner Success",
         "details": "San Francisco • Remote possible • $110k – $170k • 0.1% – 0.4%",
         "_deepnote_index_column": 3
        },
        {
         "companyName": "Stellic",
         "companySize": "11-50 EMPLOYEES",
         "tagline": "Powering the path to graduation",
         "title": "Head of Marketing",
         "details": "San Francisco • San Francisco Bay Area • Remote possible • $125k – $200k • 0.2% – 0.6%",
         "_deepnote_index_column": 4
        },
        {
         "companyName": "WREX (Global B2B Marketplace)",
         "companySize": "11-50 EMPLOYEES",
         "tagline": "Using AI/ML technology to transform the Real Estate industry. Join the Evolution",
         "title": "VP of Sales for Global B2B Marketplace (AI Tech Real Estate)",
         "details": "New York City • London • New York • Remote possible • $250k – $330k • 1.0% – 3.0%",
         "_deepnote_index_column": 5
        },
        {
         "companyName": "WREX (Global B2B Marketplace)",
         "companySize": "11-50 EMPLOYEES",
         "tagline": "Using AI/ML technology to transform the Real Estate industry. Join the Evolution",
         "title": "Software Developer required for Global B2B Marketplace (AI/ML Tech Real Estate)",
         "details": "California • Los Angeles • New York City • Remote possible • $80k – $150k • 1.0% – 5.0%",
         "_deepnote_index_column": 6
        },
        {
         "companyName": "WREX (Global B2B Marketplace)",
         "companySize": "11-50 EMPLOYEES",
         "tagline": "Using AI/ML technology to transform the Real Estate industry. Join the Evolution",
         "title": "Marketing Manager sought for Global B2B Marketplace (AI Tech Real Estate)",
         "details": "Los Angeles • San Francisco • London • Remote possible • $60k – $80k • 1.0% – 3.0%",
         "_deepnote_index_column": 7
        },
        {
         "companyName": "Prophecy.io",
         "companySize": "11-50 EMPLOYEES",
         "tagline": "Low Code Data Engineering",
         "title": "VP Marketing",
         "details": "Palo Alto • $250k – $320k • 0.5% – 1.0%",
         "_deepnote_index_column": 8
        },
        {
         "companyName": "Prophecy.io",
         "companySize": "11-50 EMPLOYEES",
         "tagline": "Low Code Data Engineering",
         "title": "Director of Product Marketing",
         "details": "Palo Alto • $150k – $180k • 0.1% – 0.1%",
         "_deepnote_index_column": 9
        }
       ]
      },
      "text/plain": "                     companyName       companySize  \\\n0    Recurate | Resale Made Easy   11-50 EMPLOYEES   \n1                    batelle.com   11-50 EMPLOYEES   \n2                        Stellic   11-50 EMPLOYEES   \n3                        Stellic   11-50 EMPLOYEES   \n4                        Stellic   11-50 EMPLOYEES   \n..                           ...               ...   \n282                      isee ai   11-50 EMPLOYEES   \n283                      isee ai   11-50 EMPLOYEES   \n284                      isee ai   11-50 EMPLOYEES   \n285                         Kisi  51-200 EMPLOYEES   \n286                         Kisi  51-200 EMPLOYEES   \n\n                                               tagline  \\\n0    Recurate enables a beautifully integrated resa...   \n1    Teach parents how to put their children to bed...   \n2                      Powering the path to graduation   \n3                      Powering the path to graduation   \n4                      Powering the path to graduation   \n..                                                 ...   \n282  An ai platform focused on building the road to...   \n283  An ai platform focused on building the road to...   \n284  An ai platform focused on building the road to...   \n285  Modern door security for facilities where the ...   \n286  Modern door security for facilities where the ...   \n\n                                                 title  \\\n0                                Brand Success Manager   \n1                              Senior Sales Consultant   \n2                                            VP, Sales   \n3                              Head of Partner Success   \n4                                    Head of Marketing   \n..                                                 ...   \n282                      Principal Perception Engineer   \n283                                  Service Desk Lead   \n284    Staff Test Engineer - Testing Tools and Methods   \n285  Business Development Representative (Junior Sa...   \n286                                  Account Executive   \n\n                                               details  \n0                        Remote possible • $60k – $85k  \n1                        Remote possible • $45k – $65k  \n2    San Francisco Bay Area • Remote possible • $28...  \n3    San Francisco • Remote possible • $110k – $170...  \n4    San Francisco • San Francisco Bay Area • Remot...  \n..                                                 ...  \n282  Boston • Cambridge • Remote possible • $160k –...  \n283               Boston • Cambridge • Remote possible  \n284  Boston • Cambridge • Remote possible • $75k – ...  \n285  Brooklyn • Remote possible • $50k – $60k • No ...  \n286           Brooklyn • Remote possible • $57k – $80k  \n\n[287 rows x 5 columns]",
      "text/html": "<div>\n<style scoped>\n    .dataframe tbody tr th:only-of-type {\n        vertical-align: middle;\n    }\n\n    .dataframe tbody tr th {\n        vertical-align: top;\n    }\n\n    .dataframe thead th {\n        text-align: right;\n    }\n</style>\n<table border=\"1\" class=\"dataframe\">\n  <thead>\n    <tr style=\"text-align: right;\">\n      <th></th>\n      <th>companyName</th>\n      <th>companySize</th>\n      <th>tagline</th>\n      <th>title</th>\n      <th>details</th>\n    </tr>\n  </thead>\n  <tbody>\n    <tr>\n      <th>0</th>\n      <td>Recurate | Resale Made Easy</td>\n      <td>11-50 EMPLOYEES</td>\n      <td>Recurate enables a beautifully integrated resa...</td>\n      <td>Brand Success Manager</td>\n      <td>Remote possible • $60k – $85k</td>\n    </tr>\n    <tr>\n      <th>1</th>\n      <td>batelle.com</td>\n      <td>11-50 EMPLOYEES</td>\n      <td>Teach parents how to put their children to bed...</td>\n      <td>Senior Sales Consultant</td>\n      <td>Remote possible • $45k – $65k</td>\n    </tr>\n    <tr>\n      <th>2</th>\n      <td>Stellic</td>\n      <td>11-50 EMPLOYEES</td>\n      <td>Powering the path to graduation</td>\n      <td>VP, Sales</td>\n      <td>San Francisco Bay Area • Remote possible • $28...</td>\n    </tr>\n    <tr>\n      <th>3</th>\n      <td>Stellic</td>\n      <td>11-50 EMPLOYEES</td>\n      <td>Powering the path to graduation</td>\n      <td>Head of Partner Success</td>\n      <td>San Francisco • Remote possible • $110k – $170...</td>\n    </tr>\n    <tr>\n      <th>4</th>\n      <td>Stellic</td>\n      <td>11-50 EMPLOYEES</td>\n      <td>Powering the path to graduation</td>\n      <td>Head of Marketing</td>\n      <td>San Francisco • San Francisco Bay Area • Remot...</td>\n    </tr>\n    <tr>\n      <th>...</th>\n      <td>...</td>\n      <td>...</td>\n      <td>...</td>\n      <td>...</td>\n      <td>...</td>\n    </tr>\n    <tr>\n      <th>282</th>\n      <td>isee ai</td>\n      <td>11-50 EMPLOYEES</td>\n      <td>An ai platform focused on building the road to...</td>\n      <td>Principal Perception Engineer</td>\n      <td>Boston • Cambridge • Remote possible • $160k –...</td>\n    </tr>\n    <tr>\n      <th>283</th>\n      <td>isee ai</td>\n      <td>11-50 EMPLOYEES</td>\n      <td>An ai platform focused on building the road to...</td>\n      <td>Service Desk Lead</td>\n      <td>Boston • Cambridge • Remote possible</td>\n    </tr>\n    <tr>\n      <th>284</th>\n      <td>isee ai</td>\n      <td>11-50 EMPLOYEES</td>\n      <td>An ai platform focused on building the road to...</td>\n      <td>Staff Test Engineer - Testing Tools and Methods</td>\n      <td>Boston • Cambridge • Remote possible • $75k – ...</td>\n    </tr>\n    <tr>\n      <th>285</th>\n      <td>Kisi</td>\n      <td>51-200 EMPLOYEES</td>\n      <td>Modern door security for facilities where the ...</td>\n      <td>Business Development Representative (Junior Sa...</td>\n      <td>Brooklyn • Remote possible • $50k – $60k • No ...</td>\n    </tr>\n    <tr>\n      <th>286</th>\n      <td>Kisi</td>\n      <td>51-200 EMPLOYEES</td>\n      <td>Modern door security for facilities where the ...</td>\n      <td>Account Executive</td>\n      <td>Brooklyn • Remote possible • $57k – $80k</td>\n    </tr>\n  </tbody>\n</table>\n<p>287 rows × 5 columns</p>\n</div>"
     },
     "metadata": {}
    }
   ]
  },
  {
   "cell_type": "code",
   "source": "_deepnote_run_altair(df, \"\"\"{\"$schema\":\"https://vega.github.io/schema/vega-lite/v4.json\",\"mark\":{\"type\":\"bar\",\"tooltip\":{\"content\":\"data\"}},\"height\":220,\"autosize\":{\"type\":\"fit\"},\"data\":{\"name\":\"placeholder\"},\"encoding\":{\"x\":{\"field\":\"companySize\",\"type\":\"nominal\",\"sort\":null,\"scale\":{\"type\":\"linear\",\"zero\":false}},\"y\":{\"field\":\"COUNT(*)\",\"type\":\"quantitative\",\"sort\":null,\"aggregate\":\"count\",\"scale\":{\"type\":\"linear\",\"zero\":true}},\"color\":{\"field\":\"\",\"type\":\"nominal\",\"sort\":null,\"scale\":{\"type\":\"linear\",\"zero\":false}}}}\"\"\")",
   "metadata": {
    "cell_id": "00002-440e5255-ed97-4232-84bd-a82ba1d4499d",
    "deepnote_variable_name": "df",
    "deepnote_visualization_spec": {
     "$schema": "https://vega.github.io/schema/vega-lite/v4.json",
     "mark": {
      "type": "bar",
      "tooltip": {
       "content": "data"
      }
     },
     "height": 220,
     "autosize": {
      "type": "fit"
     },
     "data": {
      "name": "placeholder"
     },
     "encoding": {
      "x": {
       "field": "companySize",
       "type": "nominal",
       "sort": null,
       "scale": {
        "type": "linear",
        "zero": false
       }
      },
      "y": {
       "field": "COUNT(*)",
       "type": "quantitative",
       "sort": null,
       "aggregate": "count",
       "scale": {
        "type": "linear",
        "zero": true
       }
      },
      "color": {
       "field": "",
       "type": "nominal",
       "sort": null,
       "scale": {
        "type": "linear",
        "zero": false
       }
      }
     }
    },
    "deepnote_to_be_reexecuted": false,
    "source_hash": "22bda212",
    "execution_start": 1640898419475,
    "execution_millis": 458,
    "deepnote_output_heights": [
     314
    ],
    "deepnote_app_coordinates": {
     "x": 0,
     "y": 12,
     "w": 12,
     "h": 5
    },
    "deepnote_cell_type": "visualization"
   },
   "execution_count": 3,
   "outputs": [
    {
     "output_type": "execute_result",
     "execution_count": 3,
     "data": {
      "text/html": "\n<div id=\"altair-viz-259b7557153442e2be8e5426a0614e45\"></div>\n<script type=\"text/javascript\">\n  (function(spec, embedOpt){\n    let outputDiv = document.currentScript.previousElementSibling;\n    if (outputDiv.id !== \"altair-viz-259b7557153442e2be8e5426a0614e45\") {\n      outputDiv = document.getElementById(\"altair-viz-259b7557153442e2be8e5426a0614e45\");\n    }\n    const paths = {\n      \"vega\": \"https://cdn.jsdelivr.net/npm//vega@5?noext\",\n      \"vega-lib\": \"https://cdn.jsdelivr.net/npm//vega-lib?noext\",\n      \"vega-lite\": \"https://cdn.jsdelivr.net/npm//vega-lite@4.8.1?noext\",\n      \"vega-embed\": \"https://cdn.jsdelivr.net/npm//vega-embed@6?noext\",\n    };\n\n    function loadScript(lib) {\n      return new Promise(function(resolve, reject) {\n        var s = document.createElement('script');\n        s.src = paths[lib];\n        s.async = true;\n        s.onload = () => resolve(paths[lib]);\n        s.onerror = () => reject(`Error loading script: ${paths[lib]}`);\n        document.getElementsByTagName(\"head\")[0].appendChild(s);\n      });\n    }\n\n    function showError(err) {\n      outputDiv.innerHTML = `<div class=\"error\" style=\"color:red;\">${err}</div>`;\n      throw err;\n    }\n\n    function displayChart(vegaEmbed) {\n      vegaEmbed(outputDiv, spec, embedOpt)\n        .catch(err => showError(`Javascript Error: ${err.message}<br>This usually means there's a typo in your chart specification. See the javascript console for the full traceback.`));\n    }\n\n    if(typeof define === \"function\" && define.amd) {\n      requirejs.config({paths});\n      require([\"vega-embed\"], displayChart, err => showError(`Error loading script: ${err.message}`));\n    } else if (typeof vegaEmbed === \"function\") {\n      displayChart(vegaEmbed);\n    } else {\n      loadScript(\"vega\")\n        .then(() => loadScript(\"vega-lite\"))\n        .then(() => loadScript(\"vega-embed\"))\n        .catch(showError)\n        .then(() => displayChart(vegaEmbed));\n    }\n  })({\"config\": {\"view\": {\"continuousWidth\": 400, \"continuousHeight\": 300}, \"area\": {\"fill\": \"#51C0E9\"}, \"axis\": {\"labelFont\": \"Inter, sans-serif\", \"labelFontSize\": 12, \"labelFontWeight\": \"normal\", \"labelLimit\": 60, \"labelOverlap\": \"greedy\", \"titleFont\": \"Inter, sans-serif\", \"titleFontSize\": 12, \"titleFontWeight\": \"bold\"}, \"background\": \"#ffffff\", \"legend\": {\"labelFont\": \"Inter, sans-serif\", \"labelFontSize\": 12, \"titleFont\": \"Inter, sans-serif\", \"titleFontSize\": 12, \"titleFontWeight\": \"bold\"}, \"line\": {\"stroke\": \"#51C0E9\", \"strokeWidth\": 2}, \"rect\": {\"fill\": \"#51C0E9\"}, \"title\": {\"anchor\": \"start\", \"color\": \"#000000\", \"font\": \"Inter, sans-serif\", \"fontSize\": 22, \"fontWeight\": \"normal\"}}, \"data\": {\"name\": \"data-9343a0fe737729fa03307f69f283fc46\"}, \"mark\": {\"type\": \"bar\", \"tooltip\": {\"content\": \"data\"}}, \"autosize\": {\"type\": \"fit\"}, \"encoding\": {\"color\": {\"type\": \"nominal\", \"field\": \"\", \"scale\": {\"type\": \"linear\", \"zero\": false}, \"sort\": null}, \"x\": {\"type\": \"nominal\", \"field\": \"companySize\", \"scale\": {\"type\": \"linear\", \"zero\": false}, \"sort\": null}, \"y\": {\"type\": \"quantitative\", \"aggregate\": \"count\", \"field\": \"COUNT(*)\", \"scale\": {\"type\": \"linear\", \"zero\": true}, \"sort\": null}}, \"height\": 300, \"width\": \"container\", \"$schema\": \"https://vega.github.io/schema/vega-lite/v4.json\", \"datasets\": {\"data-9343a0fe737729fa03307f69f283fc46\": [{\"companyName\": \"Recurate | Resale Made Easy\", \"companySize\": \"11-50 EMPLOYEES\", \"tagline\": \"Recurate enables a beautifully integrated resale marketplace directly on ecommerce stores\", \"title\": \"Brand Success Manager\", \"details\": \"Remote possible \\u2022 $60k \\u2013 $85k\"}, {\"companyName\": \"batelle.com\", \"companySize\": \"11-50 EMPLOYEES\", \"tagline\": \"Teach parents how to put their children to bed in under 5 minutes, within a week\", \"title\": \"Senior Sales Consultant\", \"details\": \"Remote possible \\u2022 $45k \\u2013 $65k\"}, {\"companyName\": \"Stellic\", \"companySize\": \"11-50 EMPLOYEES\", \"tagline\": \"Powering the path to graduation\", \"title\": \"VP, Sales\", \"details\": \"San Francisco Bay Area \\u2022 Remote possible \\u2022 $280k \\u2013 $360k \\u2022 0.25% \\u2013 0.5%\"}, {\"companyName\": \"Stellic\", \"companySize\": \"11-50 EMPLOYEES\", \"tagline\": \"Powering the path to graduation\", \"title\": \"Head of Partner Success\", \"details\": \"San Francisco \\u2022 Remote possible \\u2022 $110k \\u2013 $170k \\u2022 0.1% \\u2013 0.4%\"}, {\"companyName\": \"Stellic\", \"companySize\": \"11-50 EMPLOYEES\", \"tagline\": \"Powering the path to graduation\", \"title\": \"Head of Marketing\", \"details\": \"San Francisco \\u2022 San Francisco Bay Area \\u2022 Remote possible \\u2022 $125k \\u2013 $200k \\u2022 0.2% \\u2013 0.6%\"}, {\"companyName\": \"WREX (Global B2B Marketplace)\", \"companySize\": \"11-50 EMPLOYEES\", \"tagline\": \"Using AI/ML technology to transform the Real Estate industry. Join the Evolution\", \"title\": \"VP of Sales for Global B2B Marketplace (AI Tech Real Estate)\", \"details\": \"New York City \\u2022 London \\u2022 New York \\u2022 Remote possible \\u2022 $250k \\u2013 $330k \\u2022 1.0% \\u2013 3.0%\"}, {\"companyName\": \"WREX (Global B2B Marketplace)\", \"companySize\": \"11-50 EMPLOYEES\", \"tagline\": \"Using AI/ML technology to transform the Real Estate industry. Join the Evolution\", \"title\": \"Software Developer required for Global B2B Marketplace (AI/ML Tech Real Estate)\", \"details\": \"California \\u2022 Los Angeles \\u2022 New York City \\u2022 Remote possible \\u2022 $80k \\u2013 $150k \\u2022 1.0% \\u2013 5.0%\"}, {\"companyName\": \"WREX (Global B2B Marketplace)\", \"companySize\": \"11-50 EMPLOYEES\", \"tagline\": \"Using AI/ML technology to transform the Real Estate industry. Join the Evolution\", \"title\": \"Marketing Manager sought for Global B2B Marketplace (AI Tech Real Estate)\", \"details\": \"Los Angeles \\u2022 San Francisco \\u2022 London \\u2022 Remote possible \\u2022 $60k \\u2013 $80k \\u2022 1.0% \\u2013 3.0%\"}, {\"companyName\": \"Prophecy.io\", \"companySize\": \"11-50 EMPLOYEES\", \"tagline\": \"Low Code Data Engineering\", \"title\": \"VP Marketing\", \"details\": \"Palo Alto \\u2022 $250k \\u2013 $320k \\u2022 0.5% \\u2013 1.0%\"}, {\"companyName\": \"Prophecy.io\", \"companySize\": \"11-50 EMPLOYEES\", \"tagline\": \"Low Code Data Engineering\", \"title\": \"Director of Product Marketing\", \"details\": \"Palo Alto \\u2022 $150k \\u2013 $180k \\u2022 0.1% \\u2013 0.1%\"}, {\"companyName\": \"Prophecy.io\", \"companySize\": \"11-50 EMPLOYEES\", \"tagline\": \"Low Code Data Engineering\", \"title\": \"Staff Data Engineer - Product Development\", \"details\": \"Palo Alto \\u2022 $200k \\u2013 $240k \\u2022 0.1% \\u2013 0.2%\"}, {\"companyName\": \"Repool (YC S21)\", \"companySize\": \"1-10 EMPLOYEES\", \"tagline\": \"Making hedge funds easy to create and join. For everyone\", \"title\": \"Head of Marketing\", \"details\": \"New York City \\u2022 Brooklyn \\u2022 San Francisco Bay Area \\u2022 $130k \\u2013 $180k \\u2022 1.0% \\u2013 1.5%\"}, {\"companyName\": \"Repool (YC S21)\", \"companySize\": \"1-10 EMPLOYEES\", \"tagline\": \"Making hedge funds easy to create and join. For everyone\", \"title\": \"Senior Software Engineer (early hire)\", \"details\": \"New York City \\u2022 San Francisco Bay Area \\u2022 $170k \\u2013 $210k \\u2022 1.0% \\u2013 2.5%\"}, {\"companyName\": \"Lively\", \"companySize\": \"51-200 EMPLOYEES\", \"tagline\": \"The Modern Health Savings Account\", \"title\": \"Director, Product Operations\", \"details\": \"San Francisco Bay Area \\u2022 Remote possible \\u2022 $150k \\u2013 $200k \\u2022 0.06% \\u2013 0.075%\"}, {\"companyName\": \"Lively\", \"companySize\": \"51-200 EMPLOYEES\", \"tagline\": \"The Modern Health Savings Account\", \"title\": \"Sr. Information Security Manager\", \"details\": \"San Francisco Bay Area \\u2022 Remote possible \\u2022 $105k \\u2013 $140k \\u2022 0.016% \\u2013 0.02%\"}, {\"companyName\": \"Lively\", \"companySize\": \"51-200 EMPLOYEES\", \"tagline\": \"The Modern Health Savings Account\", \"title\": \"Sr. Product Manager\", \"details\": \"San Francisco Bay Area \\u2022 Remote possible \\u2022 $150k \\u2013 $185k \\u2022 0.044% \\u2013 0.055%\"}, {\"companyName\": \"Mosaic\", \"companySize\": \"11-50 EMPLOYEES\", \"tagline\": \"Mosaic manages and optimizes who is working on what and when\", \"title\": \"Design Director\", \"details\": \"New York City \\u2022 Remote possible \\u2022 $150k \\u2013 $225k \\u2022 0.25% \\u2013 0.75%\"}, {\"companyName\": \"Mosaic\", \"companySize\": \"11-50 EMPLOYEES\", \"tagline\": \"Mosaic manages and optimizes who is working on what and when\", \"title\": \"Sales Development Representative\", \"details\": \"New York City \\u2022 Remote possible \\u2022 $55k \\u2013 $75k \\u2022 0.05% \\u2013 0.15%\"}, {\"companyName\": \"Mosaic\", \"companySize\": \"11-50 EMPLOYEES\", \"tagline\": \"Mosaic manages and optimizes who is working on what and when\", \"title\": \"Lead Backend Engineer - Integrations\", \"details\": \"New York City \\u2022 Remote possible \\u2022 $160k \\u2013 $190k\"}, {\"companyName\": \"Pngme\", \"companySize\": \"11-50 EMPLOYEES\", \"tagline\": \"Unified financial data for 3.3 billion people\", \"title\": \"Senior Software Engineer - Full Stack\", \"details\": \"San Francisco\"}, {\"companyName\": \"Pngme\", \"companySize\": \"11-50 EMPLOYEES\", \"tagline\": \"Unified financial data for 3.3 billion people\", \"title\": \"Lead Engineer, SRE (Remote)\", \"details\": \"San Francisco \\u2022 Remote possible \\u2022 $160k \\u2013 $190k\"}, {\"companyName\": \"Pngme\", \"companySize\": \"11-50 EMPLOYEES\", \"tagline\": \"Unified financial data for 3.3 billion people\", \"title\": \"Senior Mobile Engineer\", \"details\": \"San Francisco\"}, {\"companyName\": \"Nav Technologies, Inc\", \"companySize\": \"51-200 EMPLOYEES\", \"tagline\": \"Help Us Do Amazing Things for Small Business in America!\", \"title\": \"Sr. Director of Brand Strategy- Remote within the US or In Office (PA, CA, UT)\", \"details\": \"Seattle \\u2022 United States \\u2022 San Francisco \\u2022 Remote possible \\u2022 $150k \\u2013 $190k\"}, {\"companyName\": \"Nav Technologies, Inc\", \"companySize\": \"51-200 EMPLOYEES\", \"tagline\": \"Help Us Do Amazing Things for Small Business in America!\", \"title\": \"Senior Product Designer UX/UI - Remote within the US or In Office\", \"details\": \"Salt Lake City \\u2022 Draper \\u2022 Remote \\u2022 Remote possible \\u2022 $110k \\u2013 $125k\"}, {\"companyName\": \"Nav Technologies, Inc\", \"companySize\": \"51-200 EMPLOYEES\", \"tagline\": \"Help Us Do Amazing Things for Small Business in America!\", \"title\": \"UX Designer - Remote within the US or In Office (PA, CA, UT)\", \"details\": \"San Francisco \\u2022 Santa Monica \\u2022 San Francisco Bay Area \\u2022 Remote possible \\u2022 $90k \\u2013 $110k\"}, {\"companyName\": \"LearnToWin\", \"companySize\": \"11-50 EMPLOYEES\", \"tagline\": \"Learning and Analytics Platform for Elite Performance\", \"title\": \"Senior Site Reliability Engineer (DevOps Engineer, Production Engineer)\", \"details\": \"San Francisco \\u2022 Remote possible \\u2022 $145k \\u2013 $165k \\u2022 0.1% \\u2013 0.6%\"}, {\"companyName\": \"XCLAIM\", \"companySize\": \"11-50 EMPLOYEES\", \"tagline\": \"To be the world's leading exchange for the global debt markets\", \"title\": \"Product Manager\", \"details\": \"Los Angeles \\u2022 Remote possible \\u2022 $120k \\u2013 $150k \\u2022 0.0% \\u2013 0.2%\"}, {\"companyName\": \"The Black Tux\", \"companySize\": \"201-500 EMPLOYEES\", \"tagline\": \"Tuxedos and suits, for rent and for keeps\", \"title\": \"Head of Consumer Insights\", \"details\": \"Remote possible\"}, {\"companyName\": \"Skydog Ops\", \"companySize\": \"1-10 EMPLOYEES\", \"tagline\": \"On-Demand Salesforce + Revenue Ops Consulting\", \"title\": \"Salesforce + RevOps Consultant | Work with High-Growth Startups\", \"details\": \"Remote possible \\u2022 $68k \\u2013 $100k\"}, {\"companyName\": \"Plate IQ\", \"companySize\": \"51-200 EMPLOYEES\", \"tagline\": \"AP Automation & Expense Management For Fast Growing Businesses\", \"title\": \"Back End Engineer (Fintech and Payments)\", \"details\": \"Canada \\u2022 Mexico \\u2022 United States \\u2022 Remote possible \\u2022 $120k \\u2013 $180k \\u2022 0.01% \\u2013 0.02%\"}, {\"companyName\": \"Plate IQ\", \"companySize\": \"51-200 EMPLOYEES\", \"tagline\": \"AP Automation & Expense Management For Fast Growing Businesses\", \"title\": \"Customer Success Associate/Manager\", \"details\": \"San Francisco \\u2022 Remote possible \\u2022 $60k \\u2013 $80k\"}, {\"companyName\": \"Plate IQ\", \"companySize\": \"51-200 EMPLOYEES\", \"tagline\": \"AP Automation & Expense Management For Fast Growing Businesses\", \"title\": \"Sales Development Representative\", \"details\": \"New York City \\u2022 Remote possible \\u2022 $40k \\u2013 $56k\"}, {\"companyName\": \"The.com\", \"companySize\": \"11-50 EMPLOYEES\", \"tagline\": \"Make and share websites\", \"title\": \"Content Designer\", \"details\": \"New York City \\u2022 San Francisco \\u2022 Remote possible \\u2022 $45k \\u2013 $90k \\u2022 No equity\"}, {\"companyName\": \"The.com\", \"companySize\": \"11-50 EMPLOYEES\", \"tagline\": \"Make and share websites\", \"title\": \"Software Engineer\", \"details\": \"Boulder \\u2022 Los Angeles \\u2022 San Francisco Bay Area \\u2022 Remote possible \\u2022 $150k \\u2013 $220k \\u2022 0.1% \\u2013 1.0%\"}, {\"companyName\": \"Zeplin\", \"companySize\": \"51-200 EMPLOYEES\", \"tagline\": \"The better way to share, organize and collaborate on designs\\u2014built with developers in mind\", \"title\": \"Sr. Product Manager\", \"details\": \"New York City \\u2022 United States \\u2022 Remote possible \\u2022 $150k \\u2013 $200k\"}, {\"companyName\": \"Zeplin\", \"companySize\": \"51-200 EMPLOYEES\", \"tagline\": \"The better way to share, organize and collaborate on designs\\u2014built with developers in mind\", \"title\": \"Product Designer\", \"details\": \"California \\u2022 United States \\u2022 San Francisco \\u2022 Remote possible \\u2022 $120k \\u2013 $175k\"}, {\"companyName\": \"Zeplin\", \"companySize\": \"51-200 EMPLOYEES\", \"tagline\": \"The better way to share, organize and collaborate on designs\\u2014built with developers in mind\", \"title\": \"Software Engineer, Design Integrations\", \"details\": \"California \\u2022 United States \\u2022 San Francisco \\u2022 Remote possible \\u2022 $140k \\u2013 $200k\"}, {\"companyName\": \"Guide\", \"companySize\": \"1-10 EMPLOYEES\", \"tagline\": \"A new way to win candidates over your competitors\", \"title\": \"Senior Software Engineer\", \"details\": \"San Francisco \\u2022 Remote possible \\u2022 $150k \\u2013 $225k \\u2022 0.1% \\u2013 0.25%\"}, {\"companyName\": \"StackSource\", \"companySize\": \"11-50 EMPLOYEES\", \"tagline\": \"Commercial real estate financing, online\", \"title\": \"Full Stack Software Engineer\", \"details\": \"New York City \\u2022 Remote \\u2022 Remote possible \\u2022 $115k \\u2013 $135k \\u2022 0.1% \\u2013 0.25%\"}, {\"companyName\": \"StackSource\", \"companySize\": \"11-50 EMPLOYEES\", \"tagline\": \"Commercial real estate financing, online\", \"title\": \"Sr Software Engineer\", \"details\": \"New York City \\u2022 Orlando \\u2022 Remote possible \\u2022 $125k \\u2013 $145k \\u2022 0.05% \\u2013 0.15%\"}, {\"companyName\": \"StackSource\", \"companySize\": \"11-50 EMPLOYEES\", \"tagline\": \"Commercial real estate financing, online\", \"title\": \"Senior Analyst\", \"details\": \"Los Angeles County \\u2022 $75k \\u2013 $100k \\u2022 0.05% \\u2013 0.15%\"}, {\"companyName\": \"Orbit\", \"companySize\": \"11-50 EMPLOYEES\", \"tagline\": \"Mission Control for your Comunity \\u00b7 we're hiring!\", \"title\": \"Account Executive\", \"details\": \"New York City \\u2022 San Francisco \\u2022 Remote \\u2022 Remote possible \\u2022 $150k \\u2013 $200k \\u2022 0.01% \\u2013 0.25%\"}, {\"companyName\": \"OpenEnvoy\", \"companySize\": \"11-50 EMPLOYEES\", \"tagline\": \"Automated Accounts Payable\", \"title\": \"Director of Operations\", \"details\": \"Oakland \\u2022 Remote possible \\u2022 $120k \\u2013 $150k\"}, {\"companyName\": \"OpenEnvoy\", \"companySize\": \"11-50 EMPLOYEES\", \"tagline\": \"Automated Accounts Payable\", \"title\": \"Head of Product Marketing\", \"details\": \"Oakland \\u2022 Remote possible \\u2022 $130k \\u2013 $165k\"}, {\"companyName\": \"OpenEnvoy\", \"companySize\": \"11-50 EMPLOYEES\", \"tagline\": \"Automated Accounts Payable\", \"title\": \"Sales Development Representative\", \"details\": \"Oakland \\u2022 Remote possible \\u2022 $50k \\u2013 $50k\"}, {\"companyName\": \"Iron Plans (YC S20)\", \"companySize\": \"1-10 EMPLOYEES\", \"tagline\": \"Subscriptions, usage-based billing, & teams for SaaS apps\", \"title\": \"Sales Development Representative (Contract)\", \"details\": \"San Francisco Bay Area \\u2022 Remote possible \\u2022 $50k \\u2013 $80k \\u2022 No equity\"}, {\"companyName\": \"Iron Plans (YC S20)\", \"companySize\": \"1-10 EMPLOYEES\", \"tagline\": \"Subscriptions, usage-based billing, & teams for SaaS apps\", \"title\": \"Demand Gen Lead\", \"details\": \"San Francisco Bay Area \\u2022 Remote possible \\u2022 $80k \\u2013 $140k \\u2022 0.25% \\u2013 1.5%\"}, {\"companyName\": \"Iron Plans (YC S20)\", \"companySize\": \"1-10 EMPLOYEES\", \"tagline\": \"Subscriptions, usage-based billing, & teams for SaaS apps\", \"title\": \"Founding Full Stack Engineer\", \"details\": \"San Francisco Bay Area \\u2022 Remote possible \\u2022 $105k \\u2013 $150k \\u2022 0.5% \\u2013 2.0%\"}, {\"companyName\": \"Ampla\", \"companySize\": \"11-50 EMPLOYEES\", \"tagline\": \"Fintech Solutions for Emerging Consumer Brands\", \"title\": \"Lead Engineer for Fintech Startup\", \"details\": \"New York City \\u2022 Remote possible \\u2022 $150k \\u2013 $200k\"}, {\"companyName\": \"Ampla\", \"companySize\": \"11-50 EMPLOYEES\", \"tagline\": \"Fintech Solutions for Emerging Consumer Brands\", \"title\": \"Product Manager, Finance\", \"details\": \"New York City \\u2022 $110k \\u2013 $150k AngelList Est.\"}, {\"companyName\": \"Ampla\", \"companySize\": \"11-50 EMPLOYEES\", \"tagline\": \"Fintech Solutions for Emerging Consumer Brands\", \"title\": \"Associate Product Manager\", \"details\": \"New York City \\u2022 $70k \\u2013 $105k AngelList Est.\"}, {\"companyName\": \"CREAM and Partners\", \"companySize\": \"11-50 EMPLOYEES\", \"tagline\": \"New Age Incubator and Investment Firm of Blockchain and Cryptocurrency Projects\", \"title\": \"Investment Analyst/Associate\", \"details\": \"Remote possible\"}, {\"companyName\": \"Altonomy\", \"companySize\": \"51-200 EMPLOYEES\", \"tagline\": \"Financial services for the Cryptocurrency industry\", \"title\": \"Blockchain Developer\", \"details\": \"Remote possible \\u2022 $80k \\u2013 $120k \\u2022 No equity\"}, {\"companyName\": \"Range\", \"companySize\": \"11-50 EMPLOYEES\", \"tagline\": \"Range keeps your team connected, focused, and productive no matter where they\\u2019re working\", \"title\": \"Product Marketing Lead\", \"details\": \"San Francisco \\u2022 Remote \\u2022 Remote possible \\u2022 $110k \\u2013 $150k \\u2022 0.1% \\u2013 0.5%\"}, {\"companyName\": \"Range\", \"companySize\": \"11-50 EMPLOYEES\", \"tagline\": \"Range keeps your team connected, focused, and productive no matter where they\\u2019re working\", \"title\": \"Backend Engineer\", \"details\": \"United States \\u2022 Remote possible \\u2022 $130k \\u2013 $160k \\u2022 0.35% \\u2013 0.75%\"}, {\"companyName\": \"The Third Place\", \"companySize\": \"1-10 EMPLOYEES\", \"tagline\": \"Opinionated software for opinionated local businesses\", \"title\": \"Senior Software Engineer\", \"details\": \"San Francisco \\u2022 Remote possible \\u2022 $150k \\u2013 $200k \\u2022 0.2% \\u2013 0.5%\"}, {\"companyName\": \"Fuzzbuzz\", \"companySize\": \"1-10 EMPLOYEES\", \"tagline\": \"Fuzzing as a Service\", \"title\": \"Backend Software Engineer\", \"details\": \"Redwood City \\u2022 San Francisco Bay Area \\u2022 Remote possible \\u2022 $145k \\u2013 $175k \\u2022 0.1% \\u2013 0.35%\"}, {\"companyName\": \"Fuzzbuzz\", \"companySize\": \"1-10 EMPLOYEES\", \"tagline\": \"Fuzzing as a Service\", \"title\": \"Developer Advocate\", \"details\": \"Redwood City \\u2022 San Francisco Bay Area \\u2022 Remote possible \\u2022 $145k \\u2013 $200k \\u2022 0.1% \\u2013 1.0%\"}, {\"companyName\": \"Fuzzbuzz\", \"companySize\": \"1-10 EMPLOYEES\", \"tagline\": \"Fuzzing as a Service\", \"title\": \"Full Stack Software Engineer\", \"details\": \"San Francisco Bay Area \\u2022 Remote possible \\u2022 $145k \\u2013 $175k \\u2022 0.1% \\u2013 0.35%\"}, {\"companyName\": \"SecurityPal\", \"companySize\": \"51-200 EMPLOYEES\", \"tagline\": \"Security-Questionnaires-as-a-Service\", \"title\": \"Sales Development Representative\", \"details\": \"San Francisco \\u2022 Remote possible \\u2022 $50k \\u2013 $60k\"}, {\"companyName\": \"SecurityPal\", \"companySize\": \"51-200 EMPLOYEES\", \"tagline\": \"Security-Questionnaires-as-a-Service\", \"title\": \"Account Executive\", \"details\": \"New York City \\u2022 San Francisco \\u2022 Remote possible \\u2022 $150k \\u2013 $230k\"}, {\"companyName\": \"Exabyte.io\", \"companySize\": \"1-10 EMPLOYEES\", \"tagline\": \"The world's materials R&D colab\", \"title\": \"\\ud83e\\uddd1\\u200d\\ud83e\\udd1d\\u200d\\ud83e\\uddd1 Scientific Community Evangelist \\ud83e\\uddd1\\u200d\\ud83e\\udd1d\\u200d\\ud83e\\uddd1\", \"details\": \"Silicon Valley \\u2022 San Francisco \\u2022 San Francisco Bay Area \\u2022 Remote possible \\u2022 $90k \\u2013 $140k \\u2022 0.1% \\u2013 0.5%\"}, {\"companyName\": \"Exabyte.io\", \"companySize\": \"1-10 EMPLOYEES\", \"tagline\": \"The world's materials R&D colab\", \"title\": \"\\ud83d\\udc8e Head of Design \\ud83d\\udc8e\", \"details\": \"San Francisco \\u2022 Oakland \\u2022 San Francisco Bay Area \\u2022 $100k \\u2013 $180k \\u2022 0.1% \\u2013 0.5%\"}, {\"companyName\": \"Exabyte.io\", \"companySize\": \"1-10 EMPLOYEES\", \"tagline\": \"The world's materials R&D colab\", \"title\": \"\\ud83c\\udf88Head of Marketing\\ud83c\\udf88\", \"details\": \"Silicon Valley \\u2022 San Francisco \\u2022 San Francisco Bay Area \\u2022 $120k \\u2013 $160k \\u2022 0.5% \\u2013 1.5%\"}, {\"companyName\": \"Blue Orange Digital\", \"companySize\": \"51-200 EMPLOYEES\", \"tagline\": \"Blue Orange is a data science and machine learning consulting and development firm\", \"title\": \"Director of Talent\", \"details\": \"Alexandria \\u2022 $130k \\u2013 $150k \\u2022 No equity\"}, {\"companyName\": \"Blue Orange Digital\", \"companySize\": \"51-200 EMPLOYEES\", \"tagline\": \"Blue Orange is a data science and machine learning consulting and development firm\", \"title\": \"Director of Operations\", \"details\": \"New York City \\u2022 New York \\u2022 Manhattan \\u2022 $120k \\u2013 $130k\"}, {\"companyName\": \"Blue Orange Digital\", \"companySize\": \"51-200 EMPLOYEES\", \"tagline\": \"Blue Orange is a data science and machine learning consulting and development firm\", \"title\": \"Data Engineer (Remote)\", \"details\": \"Brazil \\u2022 Mexico \\u2022 Colombia \\u2022 Remote possible \\u2022 $42k \\u2013 $84k \\u2022 No equity\"}, {\"companyName\": \"Bitwise Asset Management\", \"companySize\": \"51-200 EMPLOYEES\", \"tagline\": \"Making it easier for anyone to invest in cryptocurrency\", \"title\": \"Full Stack Software Engineer\", \"details\": \"United States \\u2022 Remote possible \\u2022 $100k \\u2013 $180k\"}, {\"companyName\": \"Sila\", \"companySize\": \"51-200 EMPLOYEES\", \"tagline\": \"Making money programmable\", \"title\": \"Sr. Blockchain Engineer\", \"details\": \"Portland \\u2022 United States \\u2022 Remote \\u2022 Remote possible \\u2022 $135k \\u2013 $160k\"}, {\"companyName\": \"Sila\", \"companySize\": \"51-200 EMPLOYEES\", \"tagline\": \"Making money programmable\", \"title\": \"API Sales - Account Executive\", \"details\": \"Portland \\u2022 Remote possible \\u2022 $60k \\u2013 $120k\"}, {\"companyName\": \"Sila\", \"companySize\": \"51-200 EMPLOYEES\", \"tagline\": \"Making money programmable\", \"title\": \"Backend Engineer (Python, AWS, incorporates commercial blockchain)\", \"details\": \"Portland \\u2022 Remote possible \\u2022 $75k \\u2013 $110k\"}, {\"companyName\": \"Apptopia\", \"companySize\": \"51-200 EMPLOYEES\", \"tagline\": \"Quantcast for Apps. Accurate market intelligence on the global app ecosystem\", \"title\": \"Senior UI Designer\", \"details\": \"United States \\u2022 Remote possible \\u2022 $100k \\u2013 $120k \\u2022 0.01% \\u2013 0.05%\"}, {\"companyName\": \"Apptopia\", \"companySize\": \"51-200 EMPLOYEES\", \"tagline\": \"Quantcast for Apps. Accurate market intelligence on the global app ecosystem\", \"title\": \"Talent Development Manager\", \"details\": \"Boston \\u2022 New York City \\u2022 Philadelphia \\u2022 Remote possible \\u2022 $100k \\u2013 $120k \\u2022 0.1% \\u2013 0.5%\"}, {\"companyName\": \"Apptopia\", \"companySize\": \"51-200 EMPLOYEES\", \"tagline\": \"Quantcast for Apps. Accurate market intelligence on the global app ecosystem\", \"title\": \"Senior Account Executive\", \"details\": \"Boston \\u2022 New York City \\u2022 Philadelphia \\u2022 Remote possible \\u2022 $125k \\u2013 $200k \\u2022 0.1% \\u2013 0.5%\"}, {\"companyName\": \"Creative Juice\", \"companySize\": \"1-10 EMPLOYEES\", \"tagline\": \"Banking for the creator economy\", \"title\": \"Backend Engineer\", \"details\": \"New York City \\u2022 Washington DC \\u2022 San Francisco \\u2022 Remote possible \\u2022 $115k \\u2013 $140k\"}, {\"companyName\": \"Creative Juice\", \"companySize\": \"1-10 EMPLOYEES\", \"tagline\": \"Banking for the creator economy\", \"title\": \"Full Stack Engineer\", \"details\": \"New York City \\u2022 Washington DC \\u2022 San Francisco \\u2022 Remote possible \\u2022 $115k \\u2013 $140k\"}, {\"companyName\": \"InDebted\", \"companySize\": \"51-200 EMPLOYEES\", \"tagline\": \"To be the preferred choice of customers to support their debt free journey, everywhere\", \"title\": \"Customer Engagement Specialist 2nd Shift 1pm to 10pm\", \"details\": \"\"}, {\"companyName\": \"InDebted\", \"companySize\": \"51-200 EMPLOYEES\", \"tagline\": \"To be the preferred choice of customers to support their debt free journey, everywhere\", \"title\": \"Customer Engagement Specialist 1st Shift 7am to 4pm\", \"details\": \"\"}, {\"companyName\": \"FairStreet\", \"companySize\": \"1-10 EMPLOYEES\", \"tagline\": \"Improving healthcare for older adults\", \"title\": \"Full Stack Software Engineer\", \"details\": \"San Francisco \\u2022 Remote \\u2022 Remote possible \\u2022 $110k \\u2013 $160k \\u2022 0.35% \\u2013 1.0%\"}, {\"companyName\": \"GoSite\", \"companySize\": \"51-200 EMPLOYEES\", \"tagline\": \"The easiest way to connect your business with more customers\", \"title\": \"Technical Recruiting Lead (remote)\", \"details\": \"San Francisco \\u2022 Remote possible \\u2022 $115k \\u2013 $150k\"}, {\"companyName\": \"GoSite\", \"companySize\": \"51-200 EMPLOYEES\", \"tagline\": \"The easiest way to connect your business with more customers\", \"title\": \"Senior Mobile Engineer\", \"details\": \"San Francisco \\u2022 $125k \\u2013 $180k AngelList Est.\"}, {\"companyName\": \"GoSite\", \"companySize\": \"51-200 EMPLOYEES\", \"tagline\": \"The easiest way to connect your business with more customers\", \"title\": \"Senior DevOps Engineer\", \"details\": \"San Francisco \\u2022 $110k \\u2013 $155k AngelList Est.\"}, {\"companyName\": \"Dashbot\", \"companySize\": \"11-50 EMPLOYEES\", \"tagline\": \"Conversational Data Cloud\", \"title\": \"Account Executive\", \"details\": \"San Francisco \\u2022 Remote possible \\u2022 $80k \\u2013 $100k \\u2022 0.05% \\u2013 0.1%\"}, {\"companyName\": \"Dashbot\", \"companySize\": \"11-50 EMPLOYEES\", \"tagline\": \"Conversational Data Cloud\", \"title\": \"Sales Development Representative\", \"details\": \"San Francisco \\u2022 Remote possible \\u2022 $60k \\u2013 $80k \\u2022 0.04% \\u2013 0.05%\"}, {\"companyName\": \"Dashbot\", \"companySize\": \"11-50 EMPLOYEES\", \"tagline\": \"Conversational Data Cloud\", \"title\": \"Product Designer\", \"details\": \"San Francisco \\u2022 Remote possible \\u2022 $90k \\u2013 $120k \\u2022 0.1% \\u2013 0.2%\"}, {\"companyName\": \"Lightyear\", \"companySize\": \"11-50 EMPLOYEES\", \"tagline\": \"Enterprise telecom simplified\", \"title\": \"Head of Product Design\", \"details\": \"Austin \\u2022 New York City \\u2022 San Francisco \\u2022 Remote possible \\u2022 $120k \\u2013 $200k\"}, {\"companyName\": \"Lightyear\", \"companySize\": \"11-50 EMPLOYEES\", \"tagline\": \"Enterprise telecom simplified\", \"title\": \"Head of Recruiting\", \"details\": \"Austin \\u2022 New York City \\u2022 San Francisco \\u2022 Remote possible \\u2022 $100k \\u2013 $150k\"}, {\"companyName\": \"Lightyear\", \"companySize\": \"11-50 EMPLOYEES\", \"tagline\": \"Enterprise telecom simplified\", \"title\": \"Full Stack Software Engineer\", \"details\": \"Austin \\u2022 New York City \\u2022 San Francisco \\u2022 Remote possible \\u2022 $120k \\u2013 $200k\"}, {\"companyName\": \"Runway\", \"companySize\": \"1-10 EMPLOYEES\", \"tagline\": \"Air traffic control for mobile releases\", \"title\": \"Marketing & Growth Lead\", \"details\": \"New York City \\u2022 Remote possible \\u2022 $90k \\u2013 $160k \\u2022 0.0% \\u2013 1.0%\"}, {\"companyName\": \"Runway\", \"companySize\": \"1-10 EMPLOYEES\", \"tagline\": \"Air traffic control for mobile releases\", \"title\": \"Software Engineer\", \"details\": \"New York City \\u2022 Remote possible \\u2022 $110k \\u2013 $180k \\u2022 0.0% \\u2013 1.5%\"}, {\"companyName\": \"WhyHotel\", \"companySize\": \"51-200 EMPLOYEES\", \"tagline\": \"More than just a space to spend the night-a place to call home for as long as you're here!\", \"title\": \"Senior Analyst, Acquisitions & Development (Remote)\", \"details\": \"Miami \\u2022 New York City \\u2022 Washington DC \\u2022 Nashville \\u2022 Tysons \\u2022 Remote possible \\u2022 $90k \\u2013 $100k\"}, {\"companyName\": \"WhyHotel\", \"companySize\": \"51-200 EMPLOYEES\", \"tagline\": \"More than just a space to spend the night-a place to call home for as long as you're here!\", \"title\": \"VP, Real Estate Platform Partnerships (Remote)\", \"details\": \"Miami \\u2022 New York City \\u2022 Washington DC \\u2022 Nashville \\u2022 Tysons \\u2022 Remote possible \\u2022 $235k \\u2013 $285k AngelList Est.\"}, {\"companyName\": \"WhyHotel\", \"companySize\": \"51-200 EMPLOYEES\", \"tagline\": \"More than just a space to spend the night-a place to call home for as long as you're here!\", \"title\": \"Revenue and Distribution Associate (Senior Analyst) (Remote)\", \"details\": \"Washington DC \\u2022 Remote possible \\u2022 $75k \\u2013 $75k\"}, {\"companyName\": \"QuillBot\", \"companySize\": \"51-200 EMPLOYEES\", \"tagline\": \"Making Writing Painless\", \"title\": \"Head of Content Marketing\", \"details\": \"Chicago \\u2022 Remote possible \\u2022 $120k \\u2013 $160k \\u2022 No equity\"}, {\"companyName\": \"QuillBot\", \"companySize\": \"51-200 EMPLOYEES\", \"tagline\": \"Making Writing Painless\", \"title\": \"UX Researcher\", \"details\": \"Chicago \\u2022 $60k \\u2013 $100k \\u2022 No equity\"}, {\"companyName\": \"QuillBot\", \"companySize\": \"51-200 EMPLOYEES\", \"tagline\": \"Making Writing Painless\", \"title\": \"Senior Full Stack Engineer\", \"details\": \"Jaipur \\u2022 Remote possible \\u2022 \\u20b915L \\u2013 \\u20b940L \\u2022 No equity\"}, {\"companyName\": \"Diffgram\", \"companySize\": \"1-10 EMPLOYEES\", \"tagline\": \"Accelerate the 4th Industrial Revolution\", \"title\": \"Marketing Generalist\", \"details\": \"Canada \\u2022 India \\u2022 Remote \\u2022 Remote possible \\u2022 $23k \\u2013 $45k \\u2022 0.0% \\u2013 1.0%\"}, {\"companyName\": \"Diffgram\", \"companySize\": \"1-10 EMPLOYEES\", \"tagline\": \"Accelerate the 4th Industrial Revolution\", \"title\": \"Chief Marketing Officer\", \"details\": \"Santa Clara \\u2022 Remote possible \\u2022 $80k \\u2013 $150k \\u2022 3.0% \\u2013 5.0%\"}, {\"companyName\": \"Diffgram\", \"companySize\": \"1-10 EMPLOYEES\", \"tagline\": \"Accelerate the 4th Industrial Revolution\", \"title\": \"Full Stack Engineer\", \"details\": \"Canada \\u2022 India \\u2022 United States \\u2022 Remote possible \\u2022 $38k \\u2013 $73k \\u2022 3.0% \\u2013 5.0%\"}, {\"companyName\": \"Filmhub\", \"companySize\": \"11-50 EMPLOYEES\", \"tagline\": \"Online B2B marketplace for filmmakers and streaming platforms\", \"title\": \"Account Executive, Streaming Channels\", \"details\": \"San Francisco \\u2022 Santa Monica \\u2022 Remote possible \\u2022 $120k \\u2013 $200k \\u2022 0.0% \\u2013 0.15%\"}, {\"companyName\": \"Filmhub\", \"companySize\": \"11-50 EMPLOYEES\", \"tagline\": \"Online B2B marketplace for filmmakers and streaming platforms\", \"title\": \"Designer (UI/UX/Product)\", \"details\": \"San Francisco \\u2022 Santa Monica \\u2022 Remote possible \\u2022 $60k \\u2013 $140k \\u2022 0.0% \\u2013 0.25%\"}, {\"companyName\": \"Filmhub\", \"companySize\": \"11-50 EMPLOYEES\", \"tagline\": \"Online B2B marketplace for filmmakers and streaming platforms\", \"title\": \"Full Stack Software Engineer\", \"details\": \"Santa Monica \\u2022 Remote possible \\u2022 $40k \\u2013 $120k \\u2022 0.0% \\u2013 0.25%\"}, {\"companyName\": \"Camino\", \"companySize\": \"11-50 EMPLOYEES\", \"tagline\": \"A modern SaaS platform for Government\", \"title\": \"Senior Software Engineer\", \"details\": \"Denver \\u2022 North America \\u2022 Nashville \\u2022 Remote possible \\u2022 $130k \\u2013 $160k \\u2022 0.25% \\u2013 0.8%\"}, {\"companyName\": \"Camino\", \"companySize\": \"11-50 EMPLOYEES\", \"tagline\": \"A modern SaaS platform for Government\", \"title\": \"Vice President of Sales\", \"details\": \"San Mateo \\u2022 Remote \\u2022 Remote possible \\u2022 $270k \\u2013 $350k \\u2022 1.0% \\u2013 3.0%\"}, {\"companyName\": \"Recurate | Resale Made Easy\", \"companySize\": \"11-50 EMPLOYEES\", \"tagline\": \"Recurate enables a beautifully integrated resale marketplace directly on ecommerce stores\", \"title\": \"Brand Success Manager\", \"details\": \"Remote possible \\u2022 $60k \\u2013 $85k\"}, {\"companyName\": \"batelle.com\", \"companySize\": \"11-50 EMPLOYEES\", \"tagline\": \"Teach parents how to put their children to bed in under 5 minutes, within a week\", \"title\": \"Senior Sales Consultant\", \"details\": \"Remote possible \\u2022 $45k \\u2013 $65k\"}, {\"companyName\": \"Prismatic\", \"companySize\": \"11-50 EMPLOYEES\", \"tagline\": \"The integration platform for B2B software companies\", \"title\": \"Senior Frontend Engineer (U.S.)\", \"details\": \"Sioux Falls \\u2022 Remote possible \\u2022 $130k \\u2013 $140k\"}, {\"companyName\": \"Prismatic\", \"companySize\": \"11-50 EMPLOYEES\", \"tagline\": \"The integration platform for B2B software companies\", \"title\": \"Senior Cloud Engineer (U.S.)\", \"details\": \"Sioux Falls \\u2022 Remote possible \\u2022 $130k \\u2013 $140k\"}, {\"companyName\": \"fittly\", \"companySize\": \"1-10 EMPLOYEES\", \"tagline\": \"LinkedIn for fitness\", \"title\": \"CTO\", \"details\": \"New York City \\u2022 Amsterdam \\u2022 Remote possible \\u2022 $120k \\u2013 $150k \\u2022 5.0% \\u2013 10.0%\"}, {\"companyName\": \"fittly\", \"companySize\": \"1-10 EMPLOYEES\", \"tagline\": \"LinkedIn for fitness\", \"title\": \"Sales Development Intern\", \"details\": \"New York City \\u2022 Remote possible \\u2022 No equity\"}, {\"companyName\": \"fittly\", \"companySize\": \"1-10 EMPLOYEES\", \"tagline\": \"LinkedIn for fitness\", \"title\": \"PR and Marketing Intern\", \"details\": \"New York City \\u2022 Remote possible\"}, {\"companyName\": \"Biome Analytics\", \"companySize\": \"51-200 EMPLOYEES\", \"tagline\": \"Performance Application Bringing Best Practice To Every Patient\", \"title\": \"Data Operations Engineer\", \"details\": \"Chicago \\u2022 New York City \\u2022 San Francisco \\u2022 Remote possible \\u2022 $110k \\u2013 $125k \\u2022 0.15% \\u2013 0.3%\"}, {\"companyName\": \"Novo\", \"companySize\": \"51-200 EMPLOYEES\", \"tagline\": \"Powerfully simple business banking\", \"title\": \"Underwriter & Data Scientist\", \"details\": \"Miami \\u2022 New York City \\u2022 $115k \\u2013 $135k AngelList Est.\"}, {\"companyName\": \"Novo\", \"companySize\": \"51-200 EMPLOYEES\", \"tagline\": \"Powerfully simple business banking\", \"title\": \"Talent Sourcer\", \"details\": \"New York City \\u2022 $65k \\u2013 $95k AngelList Est.\"}, {\"companyName\": \"Novo\", \"companySize\": \"51-200 EMPLOYEES\", \"tagline\": \"Powerfully simple business banking\", \"title\": \"Project Manager\", \"details\": \"Miami \\u2022 New York City \\u2022 $80k \\u2013 $105k AngelList Est.\"}, {\"companyName\": \"Ambience Healthcare\", \"companySize\": \"11-50 EMPLOYEES\", \"tagline\": \"Building a suite of AI-powered tools for doctors\", \"title\": \"Senior ML Engineer\", \"details\": \"San Francisco \\u2022 Remote possible \\u2022 $100k \\u2013 $150k\"}, {\"companyName\": \"Ambience Healthcare\", \"companySize\": \"11-50 EMPLOYEES\", \"tagline\": \"Building a suite of AI-powered tools for doctors\", \"title\": \"Senior Fullstack Engineer\", \"details\": \"San Francisco Bay Area \\u2022 $100k \\u2013 $150k\"}, {\"companyName\": \"Cohesion\", \"companySize\": \"11-50 EMPLOYEES\", \"tagline\": \"Cohesion\\u2019s IoT-enabled platform integrates building systems and streamlines operations\", \"title\": \"Data Engineer\", \"details\": \"Chicago \\u2022 $100k \\u2013 $115k\"}, {\"companyName\": \"Cohesion\", \"companySize\": \"11-50 EMPLOYEES\", \"tagline\": \"Cohesion\\u2019s IoT-enabled platform integrates building systems and streamlines operations\", \"title\": \"Backend Engineer (.NET)\", \"details\": \"Chicago \\u2022 Remote possible \\u2022 $95k \\u2013 $130k\"}, {\"companyName\": \"Cohesion\", \"companySize\": \"11-50 EMPLOYEES\", \"tagline\": \"Cohesion\\u2019s IoT-enabled platform integrates building systems and streamlines operations\", \"title\": \"Senior iOS Developer\", \"details\": \"Chicago \\u2022 Remote possible \\u2022 $100k \\u2013 $120k\"}, {\"companyName\": \"BentoBox\", \"companySize\": \"51-200 EMPLOYEES\", \"tagline\": \"BentoBox empowers restaurants to own their presence, profits and relationships\", \"title\": \"Senior Marketing Manager, Web\", \"details\": \"New York \\u2022 Remote possible \\u2022 $100k \\u2013 $140k AngelList Est.\"}, {\"companyName\": \"BentoBox\", \"companySize\": \"51-200 EMPLOYEES\", \"tagline\": \"BentoBox empowers restaurants to own their presence, profits and relationships\", \"title\": \"Senior Product Designer\", \"details\": \"New York \\u2022 $110k \\u2013 $130k\"}, {\"companyName\": \"BentoBox\", \"companySize\": \"51-200 EMPLOYEES\", \"tagline\": \"BentoBox empowers restaurants to own their presence, profits and relationships\", \"title\": \"Sales Operations Manager\", \"details\": \"New York City \\u2022 Remote possible \\u2022 $90k \\u2013 $115k AngelList Est.\"}, {\"companyName\": \"Syrup Tech\", \"companySize\": \"1-10 EMPLOYEES\", \"tagline\": \"AI/ML for next-generation inventory excellence in apparel, fashion and e-commerce\", \"title\": \"Senior Data Scientist\", \"details\": \"Boston \\u2022 New York City \\u2022 San Francisco \\u2022 Remote possible \\u2022 $95k \\u2013 $150k \\u2022 0.1% \\u2013 0.25%\"}, {\"companyName\": \"PDM Automotive\", \"companySize\": \"11-50 EMPLOYEES\", \"tagline\": \"Connecting the automotive aftermarket industry with data and technology\", \"title\": \"Account Executive\", \"details\": \"Seattle \\u2022 Remote possible \\u2022 $110k \\u2013 $160k\"}, {\"companyName\": \"PDM Automotive\", \"companySize\": \"11-50 EMPLOYEES\", \"tagline\": \"Connecting the automotive aftermarket industry with data and technology\", \"title\": \"Executive Assistant\", \"details\": \"Seattle \\u2022 Remote possible \\u2022 $60k \\u2013 $80k\"}, {\"companyName\": \"PDM Automotive\", \"companySize\": \"11-50 EMPLOYEES\", \"tagline\": \"Connecting the automotive aftermarket industry with data and technology\", \"title\": \"Customer Success Manager\", \"details\": \"Seattle \\u2022 Remote possible \\u2022 $60k \\u2013 $75k\"}, {\"companyName\": \"Panther\", \"companySize\": \"11-50 EMPLOYEES\", \"tagline\": \"The easiest way to hire, manage, and pay global teams\", \"title\": \"Director of Engineering\", \"details\": \"Tampa \\u2022 Skopje \\u2022 Remote \\u2022 Remote possible \\u2022 $120k \\u2013 $200k\"}, {\"companyName\": \"Panther\", \"companySize\": \"11-50 EMPLOYEES\", \"tagline\": \"The easiest way to hire, manage, and pay global teams\", \"title\": \"Director of Product\", \"details\": \"Tampa \\u2022 Skopje \\u2022 Remote \\u2022 Remote possible \\u2022 $120k \\u2013 $175k\"}, {\"companyName\": \"Panther\", \"companySize\": \"11-50 EMPLOYEES\", \"tagline\": \"The easiest way to hire, manage, and pay global teams\", \"title\": \"Mid/Senior Front-End Engineer (React.js)\", \"details\": \"Tampa \\u2022 Skopje \\u2022 Remote \\u2022 Remote possible \\u2022 $40k \\u2013 $80k \\u2022 0.01% \\u2013 0.25%\"}, {\"companyName\": \"The Black Tux\", \"companySize\": \"201-500 EMPLOYEES\", \"tagline\": \"Tuxedos and suits, for rent and for keeps\", \"title\": \"Head of Consumer Insights\", \"details\": \"Remote possible\"}, {\"companyName\": \"Skydog Ops\", \"companySize\": \"1-10 EMPLOYEES\", \"tagline\": \"On-Demand Salesforce + Revenue Ops Consulting\", \"title\": \"Salesforce + RevOps Consultant | Work with High-Growth Startups\", \"details\": \"Remote possible \\u2022 $68k \\u2013 $100k\"}, {\"companyName\": \"Chartmetric\", \"companySize\": \"11-50 EMPLOYEES\", \"tagline\": \"A profitable, 6-year-old B2B SaaS startup, with focus on music and data!\", \"title\": \"Senior Frontend Engineer at a Music Data Startup\", \"details\": \"Sunnyvale \\u2022 Remote possible \\u2022 $100k \\u2013 $140k \\u2022 0.2% \\u2013 0.5%\"}, {\"companyName\": \"Chartmetric\", \"companySize\": \"11-50 EMPLOYEES\", \"tagline\": \"A profitable, 6-year-old B2B SaaS startup, with focus on music and data!\", \"title\": \"Senior UI Designer at Chartmetric, a Music Data Analytics Startup\", \"details\": \"San Francisco Bay Area \\u2022 $80k \\u2013 $150k \\u2022 0.1% \\u2013 0.5%\"}, {\"companyName\": \"Chartmetric\", \"companySize\": \"11-50 EMPLOYEES\", \"tagline\": \"A profitable, 6-year-old B2B SaaS startup, with focus on music and data!\", \"title\": \"Lead Full-stack Engineer at Chartmetric, a Music Data Analytics Startup\", \"details\": \"San Francisco Bay Area \\u2022 $150k \\u2013 $180k \\u2022 0.5% \\u2013 1.5%\"}, {\"companyName\": \"Sendlane\", \"companySize\": \"51-200 EMPLOYEES\", \"tagline\": \"Email & SMS Marketing for eCommerce!\", \"title\": \"Director of Product Marketing\", \"details\": \"San Diego \\u2022 Remote possible \\u2022 $100k \\u2013 $180k\"}, {\"companyName\": \"Sendlane\", \"companySize\": \"51-200 EMPLOYEES\", \"tagline\": \"Email & SMS Marketing for eCommerce!\", \"title\": \"Senior Software Engineer\", \"details\": \"San Diego \\u2022 Remote possible \\u2022 $120k \\u2013 $140k\"}, {\"companyName\": \"Sendlane\", \"companySize\": \"51-200 EMPLOYEES\", \"tagline\": \"Email & SMS Marketing for eCommerce!\", \"title\": \"Product Manager (Email & Popups)\", \"details\": \"San Diego \\u2022 Remote possible \\u2022 $120k \\u2013 $165k\"}, {\"companyName\": \"Folia Health\", \"companySize\": \"1-10 EMPLOYEES\", \"tagline\": \"Enabling precision medicine with the power of individual observations\", \"title\": \"Senior Software Engineer, Backend\", \"details\": \"Cambridge \\u2022 Remote possible \\u2022 $100k \\u2013 $135k\"}, {\"companyName\": \"InvestNext\", \"companySize\": \"11-50 EMPLOYEES\", \"tagline\": \"Empowering investors to make a meaningful impact within their communities\", \"title\": \"Full Stack Software Engineer\", \"details\": \"San Diego \\u2022 Remote possible \\u2022 $75k \\u2013 $115k \\u2022 0.01% \\u2013 0.1%\"}, {\"companyName\": \"InvestNext\", \"companySize\": \"11-50 EMPLOYEES\", \"tagline\": \"Empowering investors to make a meaningful impact within their communities\", \"title\": \"Deployment Lead\", \"details\": \"Detroit \\u2022 Remote possible \\u2022 $45k \\u2013 $65k \\u2022 0.01% \\u2013 0.1%\"}, {\"companyName\": \"InvestNext\", \"companySize\": \"11-50 EMPLOYEES\", \"tagline\": \"Empowering investors to make a meaningful impact within their communities\", \"title\": \"Director of Engineering\", \"details\": \"San Diego \\u2022 Remote possible \\u2022 $170k \\u2013 $220k \\u2022 0.05% \\u2013 1.0%\"}, {\"companyName\": \"nwo.ai\", \"companySize\": \"11-50 EMPLOYEES\", \"tagline\": \"We identify microtrends before they become exponential\", \"title\": \"Account Executive, New Business\", \"details\": \"New York City \\u2022 $120k \\u2013 $150k\"}, {\"companyName\": \"nwo.ai\", \"companySize\": \"11-50 EMPLOYEES\", \"tagline\": \"We identify microtrends before they become exponential\", \"title\": \"Marketing Director\", \"details\": \"New York City \\u2022 $130k \\u2013 $175k AngelList Est.\"}, {\"companyName\": \"nwo.ai\", \"companySize\": \"11-50 EMPLOYEES\", \"tagline\": \"We identify microtrends before they become exponential\", \"title\": \"Lead Knowledge Graph Engineer\", \"details\": \"New York City \\u2022 $130k \\u2013 $175k\"}, {\"companyName\": \"SMBX\", \"companySize\": \"11-50 EMPLOYEES\", \"tagline\": \"Where people can invest in local businesses and earn a rate of return\", \"title\": \"Senior Product Designer\", \"details\": \"San Francisco \\u2022 Remote possible \\u2022 $100k \\u2013 $150k\"}, {\"companyName\": \"SMBX\", \"companySize\": \"11-50 EMPLOYEES\", \"tagline\": \"Where people can invest in local businesses and earn a rate of return\", \"title\": \"Senior Account Executive - Oregon/Washington\", \"details\": \"Portland \\u2022 Seattle \\u2022 Oregon \\u2022 Remote possible \\u2022 $80k \\u2013 $120k \\u2022 0.01% \\u2013 0.15%\"}, {\"companyName\": \"SMBX\", \"companySize\": \"11-50 EMPLOYEES\", \"tagline\": \"Where people can invest in local businesses and earn a rate of return\", \"title\": \"Senior Account Executive - Bay Area\", \"details\": \"San Jose \\u2022 Oakland \\u2022 San Francisco Bay Area \\u2022 Remote possible \\u2022 $70k \\u2013 $120k \\u2022 0.01% \\u2013 0.15%\"}, {\"companyName\": \"Supplyframe\", \"companySize\": \"201-500 EMPLOYEES\", \"tagline\": \"Organizing the world of engineering knowledge\", \"title\": \"Full Stack Engineer\", \"details\": \"Pasadena \\u2022 $100k \\u2013 $120k \\u2022 0.01% \\u2013 0.1%\"}, {\"companyName\": \"Supplyframe\", \"companySize\": \"201-500 EMPLOYEES\", \"tagline\": \"Organizing the world of engineering knowledge\", \"title\": \"Product Manager\", \"details\": \"Pasadena \\u2022 $80k \\u2013 $110k \\u2022 0.0% \\u2013 0.01%\"}, {\"companyName\": \"Supplyframe\", \"companySize\": \"201-500 EMPLOYEES\", \"tagline\": \"Organizing the world of engineering knowledge\", \"title\": \"Senior Product Manager (SaaS)\", \"details\": \"Los Angeles \\u2022 No equity$110k \\u2013 $150k AngelList Est.\"}, {\"companyName\": \"Rize\", \"companySize\": \"11-50 EMPLOYEES\", \"tagline\": \"Rize enables fintechs, financial institutions and brands to build across multiple account types\", \"title\": \"Product Manager\", \"details\": \"Arlington \\u2022 Remote possible \\u2022 $115k \\u2013 $135k\"}, {\"companyName\": \"Rize\", \"companySize\": \"11-50 EMPLOYEES\", \"tagline\": \"Rize enables fintechs, financial institutions and brands to build across multiple account types\", \"title\": \"Embedded QA Engineer\", \"details\": \"Arlington \\u2022 Remote possible \\u2022 $90k \\u2013 $120k\"}, {\"companyName\": \"Rize\", \"companySize\": \"11-50 EMPLOYEES\", \"tagline\": \"Rize enables fintechs, financial institutions and brands to build across multiple account types\", \"title\": \"Sales Development Representative\", \"details\": \"Arlington \\u2022 Remote possible \\u2022 $75k \\u2013 $95k\"}, {\"companyName\": \"Breinify\", \"companySize\": \"11-50 EMPLOYEES\", \"tagline\": \"Predictive Personalization at Scale\", \"title\": \"Head of Customer Success\", \"details\": \"San Francisco Bay Area \\u2022 $100k \\u2013 $140k \\u2022 0.01% \\u2013 0.02%\"}, {\"companyName\": \"Breinify\", \"companySize\": \"11-50 EMPLOYEES\", \"tagline\": \"Predictive Personalization at Scale\", \"title\": \"Internal Recruiter\", \"details\": \"San Francisco Bay Area \\u2022 Remote possible \\u2022 $75k \\u2013 $95k \\u2022 0.1% \\u2013 0.2%\"}, {\"companyName\": \"Breinify\", \"companySize\": \"11-50 EMPLOYEES\", \"tagline\": \"Predictive Personalization at Scale\", \"title\": \"Customer Success Engineer\", \"details\": \"San Francisco \\u2022 $110k \\u2013 $130k \\u2022 0.1% \\u2013 0.2%\"}, {\"companyName\": \"EngagedMD\", \"companySize\": \"11-50 EMPLOYEES\", \"tagline\": \"We develop the leading patient journey management solution for the fertility sector\", \"title\": \"Full Stack Developer (NodeJS)\", \"details\": \"United States \\u2022 Washington \\u2022 District of Columbia \\u2022 Remote possible \\u2022 $95k \\u2013 $135k \\u2022 0.01% \\u2013 0.05%\"}, {\"companyName\": \"EngagedMD\", \"companySize\": \"11-50 EMPLOYEES\", \"tagline\": \"We develop the leading patient journey management solution for the fertility sector\", \"title\": \"Junior Sales Executive, Healthcare SaaS (Remote)\", \"details\": \"United States \\u2022 Washington \\u2022 District of Columbia \\u2022 Remote possible \\u2022 $50k \\u2013 $70k AngelList Est.\"}, {\"companyName\": \"EngagedMD\", \"companySize\": \"11-50 EMPLOYEES\", \"tagline\": \"We develop the leading patient journey management solution for the fertility sector\", \"title\": \"Marketing Associate\", \"details\": \"United States \\u2022 Washington \\u2022 District of Columbia \\u2022 $50k \\u2013 $70k AngelList Est.\"}, {\"companyName\": \"CREAM and Partners\", \"companySize\": \"11-50 EMPLOYEES\", \"tagline\": \"New Age Incubator and Investment Firm of Blockchain and Cryptocurrency Projects\", \"title\": \"Investment Analyst/Associate\", \"details\": \"Remote possible\"}, {\"companyName\": \"Altonomy\", \"companySize\": \"51-200 EMPLOYEES\", \"tagline\": \"Financial services for the Cryptocurrency industry\", \"title\": \"Blockchain Developer\", \"details\": \"Remote possible \\u2022 $80k \\u2013 $120k \\u2022 No equity\"}, {\"companyName\": \"Facta\", \"companySize\": \"1-10 EMPLOYEES\", \"tagline\": \"SaaS accounting/finops software\", \"title\": \"Product UX Designer\", \"details\": \"San Francisco \\u2022 Remote possible \\u2022 $80k \\u2013 $150k \\u2022 0.2% \\u2013 1.0%\"}, {\"companyName\": \"TARA\", \"companySize\": \"1-10 EMPLOYEES\", \"tagline\": \"The SaaS assistant for K-12 teachers & schools\", \"title\": \"Founding Engineer\", \"details\": \"Atlanta \\u2022 Remote possible \\u2022 $80k \\u2013 $100k\"}, {\"companyName\": \"Opslock\", \"companySize\": \"11-50 EMPLOYEES\", \"tagline\": \"Making the world a safer place to work\", \"title\": \"Director, Customer Experience\", \"details\": \"Austin \\u2022 Montreal \\u2022 $90k \\u2013 $140k \\u2022 0.1% \\u2013 0.5%\"}, {\"companyName\": \"Sukhi\", \"companySize\": \"11-50 EMPLOYEES\", \"tagline\": \"The Peloton for Emotional Wellness - bridging data + resilience + cultural sensitivity\", \"title\": \"Employee Wellness Content Expert\", \"details\": \"Seattle \\u2022 Washington DC \\u2022 San Francisco \\u2022 Remote possible \\u2022 $60k \\u2013 $100k \\u2022 0.0% \\u2013 5.0%\"}, {\"companyName\": \"Sukhi\", \"companySize\": \"11-50 EMPLOYEES\", \"tagline\": \"The Peloton for Emotional Wellness - bridging data + resilience + cultural sensitivity\", \"title\": \"Sales Executive\", \"details\": \"Boston \\u2022 Seattle \\u2022 Washington DC \\u2022 Remote possible \\u2022 10.0% \\u2013 20.0%$105k \\u2013 $165k AngelList Est.\"}, {\"companyName\": \"Sukhi\", \"companySize\": \"11-50 EMPLOYEES\", \"tagline\": \"The Peloton for Emotional Wellness - bridging data + resilience + cultural sensitivity\", \"title\": \"Director of Customer Management and Support\", \"details\": \"Seattle \\u2022 Remote possible \\u2022 $40k \\u2013 $60k \\u2022 2.0% \\u2013 4.0%\"}, {\"companyName\": \"Defendify\", \"companySize\": \"11-50 EMPLOYEES\", \"tagline\": \"All-In-One Cybersecurity Platform for Small Business\", \"title\": \"SaaS Software Engineer\", \"details\": \"Maine \\u2022 Remote possible \\u2022 $80k \\u2013 $130k \\u2022 0.0% \\u2013 1.0%\"}, {\"companyName\": \"Wonderment\", \"companySize\": \"1-10 EMPLOYEES\", \"tagline\": \"Empowering brands to deliver exceptional experiences\", \"title\": \"Senior Software Engineer\", \"details\": \"Boston \\u2022 Remote possible \\u2022 $80k \\u2013 $160k \\u2022 0.1% \\u2013 0.5%\"}, {\"companyName\": \"Prodsmart\", \"companySize\": \"11-50 EMPLOYEES\", \"tagline\": \"The digital gateway for manufacturers\", \"title\": \"Inside Sales Account Executive\", \"details\": \"San Francisco \\u2022 Remote possible \\u2022 $80k \\u2013 $120k\"}, {\"companyName\": \"Prodsmart\", \"companySize\": \"11-50 EMPLOYEES\", \"tagline\": \"The digital gateway for manufacturers\", \"title\": \"Sales Development Representative\", \"details\": \"San Francisco \\u2022 Remote possible \\u2022 $55k \\u2013 $80k\"}, {\"companyName\": \"Prodsmart\", \"companySize\": \"11-50 EMPLOYEES\", \"tagline\": \"The digital gateway for manufacturers\", \"title\": \"Sales Development Representative\", \"details\": \"Michigan \\u2022 Remote possible \\u2022 $40k \\u2013 $65k \\u2022 No equity\"}, {\"companyName\": \"WhoKnows\", \"companySize\": \"11-50 EMPLOYEES\", \"tagline\": \"AI-driven lead gen for B2B startups\", \"title\": \"Python/Django Developer for Rapidly Growing Startup\", \"details\": \"San Mateo \\u2022 Remote possible \\u2022 $80k \\u2013 $120k \\u2022 0.25% \\u2013 0.5%\"}, {\"companyName\": \"WhoKnows\", \"companySize\": \"11-50 EMPLOYEES\", \"tagline\": \"AI-driven lead gen for B2B startups\", \"title\": \"CTO/Head of Engineering for rapidly growing startup\", \"details\": \"San Mateo \\u2022 Remote possible \\u2022 $150k \\u2013 $225k \\u2022 1.0% \\u2013 5.0%\"}, {\"companyName\": \"Queue\", \"companySize\": \"1-10 EMPLOYEES\", \"tagline\": \"All in one platform for freelancers to conduct their business\", \"title\": \"Generalist UI/UX Designer\", \"details\": \"Silicon Valley \\u2022 Remote possible \\u2022 $80k \\u2013 $160k \\u2022 No equity\"}, {\"companyName\": \"Leasecake\", \"companySize\": \"11-50 EMPLOYEES\", \"tagline\": \"Lease and location management made easy for business owners and brokers\", \"title\": \"Sr Developer\", \"details\": \"Orlando \\u2022 Remote possible \\u2022 $80k \\u2013 $140k \\u2022 0.1% \\u2013 0.5%\"}, {\"companyName\": \"Leasecake\", \"companySize\": \"11-50 EMPLOYEES\", \"tagline\": \"Lease and location management made easy for business owners and brokers\", \"title\": \"Controller\", \"details\": \"Orlando \\u2022 Remote possible\"}, {\"companyName\": \"InDebted\", \"companySize\": \"51-200 EMPLOYEES\", \"tagline\": \"To be the preferred choice of customers to support their debt free journey, everywhere\", \"title\": \"Customer Engagement Specialist 2nd Shift 1pm to 10pm\", \"details\": \"\"}, {\"companyName\": \"InDebted\", \"companySize\": \"51-200 EMPLOYEES\", \"tagline\": \"To be the preferred choice of customers to support their debt free journey, everywhere\", \"title\": \"Customer Engagement Specialist 1st Shift 7am to 4pm\", \"details\": \"\"}, {\"companyName\": \"Gridspace\", \"companySize\": \"11-50 EMPLOYEES\", \"tagline\": \"Giving the customers the power to capture, understand, and handle conversations in real-time\", \"title\": \"Bot Experience Composer\", \"details\": \"Los Angeles \\u2022 $80k \\u2013 $130k \\u2022 0.005% \\u2013 0.01%\"}, {\"companyName\": \"Gridspace\", \"companySize\": \"11-50 EMPLOYEES\", \"tagline\": \"Giving the customers the power to capture, understand, and handle conversations in real-time\", \"title\": \"Software Quality Assurance Engineer\", \"details\": \"Los Angeles \\u2022 $60k \\u2013 $130k \\u2022 0.01% \\u2013 1.0%\"}, {\"companyName\": \"Gridspace\", \"companySize\": \"11-50 EMPLOYEES\", \"tagline\": \"Giving the customers the power to capture, understand, and handle conversations in real-time\", \"title\": \"Senior Software Engineer\", \"details\": \"Los Angeles \\u2022 $150k \\u2013 $220k \\u2022 0.005% \\u2013 0.01%\"}, {\"companyName\": \"SupraOracles\", \"companySize\": \"51-200 EMPLOYEES\", \"tagline\": \"Powerful cross-chain oracle that bridges real-world data to blockchains\", \"title\": \"Product Mangager\", \"details\": \"Los Angeles \\u2022 New York City \\u2022 San Francisco Bay Area \\u2022 Remote possible \\u2022 $70k \\u2013 $130k \\u2022 0.01% \\u2013 0.25%\"}, {\"companyName\": \"SupraOracles\", \"companySize\": \"51-200 EMPLOYEES\", \"tagline\": \"Powerful cross-chain oracle that bridges real-world data to blockchains\", \"title\": \"Senior Software Engineer\", \"details\": \"United States \\u2022 United Kingdom \\u2022 Taiwan \\u2022 Remote possible \\u2022 $125k \\u2013 $165k AngelList Est.\"}, {\"companyName\": \"SupraOracles\", \"companySize\": \"51-200 EMPLOYEES\", \"tagline\": \"Powerful cross-chain oracle that bridges real-world data to blockchains\", \"title\": \"Senior Frontend (UI/UX) Engineer\", \"details\": \"United States \\u2022 United Kingdom \\u2022 Taiwan \\u2022 Remote possible \\u2022 $115k \\u2013 $160k AngelList Est.\"}, {\"companyName\": \"Dash Energy\", \"companySize\": \"11-50 EMPLOYEES\", \"tagline\": \"We help the world buy and sell energy faster, smarter and more confidently\", \"title\": \"Strategic Account Executive\", \"details\": \"Austin \\u2022 Remote possible \\u2022 $105k \\u2013 $140k AngelList Est.\"}, {\"companyName\": \"Dash Energy\", \"companySize\": \"11-50 EMPLOYEES\", \"tagline\": \"We help the world buy and sell energy faster, smarter and more confidently\", \"title\": \"Digital Marketing Manager\", \"details\": \"Austin \\u2022 Remote possible \\u2022 $70k \\u2013 $90k \\u2022 0.1% \\u2013 1.0%\"}, {\"companyName\": \"Freedom\", \"companySize\": \"11-50 EMPLOYEES\", \"tagline\": \"Freedom blocks distracting websites and apps so you can focus on what matters most\", \"title\": \"Software Engineer - MacOS - Swift/Objective C/AppleScript\", \"details\": \"Durham \\u2022 Raleigh \\u2022 Chapel Hill \\u2022 Remote possible \\u2022 $75k \\u2013 $95k \\u2022 No equity\"}, {\"companyName\": \"Freedom\", \"companySize\": \"11-50 EMPLOYEES\", \"tagline\": \"Freedom blocks distracting websites and apps so you can focus on what matters most\", \"title\": \"Research Analyst - Part Time\", \"details\": \"Durham \\u2022 Raleigh \\u2022 Chapel Hill \\u2022 Remote possible \\u2022 $45k \\u2013 $55k \\u2022 No equity\"}, {\"companyName\": \"Freedom\", \"companySize\": \"11-50 EMPLOYEES\", \"tagline\": \"Freedom blocks distracting websites and apps so you can focus on what matters most\", \"title\": \"Business Analyst - Revenue and Forecasting\", \"details\": \"Durham \\u2022 Raleigh \\u2022 Chapel Hill \\u2022 Remote possible \\u2022 $52k \\u2013 $72k\"}, {\"companyName\": \"Recurate | Resale Made Easy\", \"companySize\": \"11-50 EMPLOYEES\", \"tagline\": \"Recurate enables a beautifully integrated resale marketplace directly on ecommerce stores\", \"title\": \"Brand Success Manager\", \"details\": \"United States \\u2022 Remote possible \\u2022 $60k \\u2013 $85k\"}, {\"companyName\": \"Recurate | Resale Made Easy\", \"companySize\": \"11-50 EMPLOYEES\", \"tagline\": \"Recurate enables a beautifully integrated resale marketplace directly on ecommerce stores\", \"title\": \"VP of Engineering\", \"details\": \"United States \\u2022 Remote possible \\u2022 $250k \\u2013 $300k \\u2022 0.0% \\u2013 1.0%\"}, {\"companyName\": \"Recurate | Resale Made Easy\", \"companySize\": \"11-50 EMPLOYEES\", \"tagline\": \"Recurate enables a beautifully integrated resale marketplace directly on ecommerce stores\", \"title\": \"Customer Experience Manager\", \"details\": \"United States \\u2022 Remote possible \\u2022 $60k \\u2013 $70k\"}, {\"companyName\": \"Essenvia\", \"companySize\": \"1-10 EMPLOYEES\", \"tagline\": \"https://www.essenvia.com\", \"title\": \"Data Scientist / Senior DataScientist\", \"details\": \"Los Angeles \\u2022 Bengaluru \\u2022 $80k \\u2013 $120k \\u2022 0.01% \\u2013 0.1%\"}, {\"companyName\": \"Showcase\", \"companySize\": \"1-10 EMPLOYEES\", \"tagline\": \"Reimagining the delivery and consumption of business video\", \"title\": \"Founding Fullstack Software Engineer\", \"details\": \"New York City \\u2022 Remote possible \\u2022 $80k \\u2013 $130k \\u2022 0.5% \\u2013 2.0%\"}, {\"companyName\": \"Offer1\", \"companySize\": \"1-10 EMPLOYEES\", \"tagline\": \"Tech Enabled Home Selling Application\", \"title\": \"RED ALERT ***Unicorn Sighting*** Product Manager / Marketing Manager\", \"details\": \"Miami \\u2022 San Diego \\u2022 Fort Lauderdale \\u2022 $75k \\u2013 $120k \\u2022 0.25% \\u2013 0.5%\"}, {\"companyName\": \"Hologram\", \"companySize\": \"51-200 EMPLOYEES\", \"tagline\": \"Internet everywhere, for everything\", \"title\": \"Customer Success Manager\", \"details\": \"Chicago \\u2022 Remote possible \\u2022 $74k \\u2013 $102k\"}, {\"companyName\": \"Hologram\", \"companySize\": \"51-200 EMPLOYEES\", \"tagline\": \"Internet everywhere, for everything\", \"title\": \"Sales Engineer\", \"details\": \"Chicago \\u2022 Remote possible \\u2022 $60k \\u2013 $85k AngelList Est.\"}, {\"companyName\": \"Hologram\", \"companySize\": \"51-200 EMPLOYEES\", \"tagline\": \"Internet everywhere, for everything\", \"title\": \"Outbound Business Development Representative\", \"details\": \"Chicago \\u2022 Remote possible \\u2022 $60k \\u2013 $95k AngelList Est.\"}, {\"companyName\": \"Datapad\", \"companySize\": \"1-10 EMPLOYEES\", \"tagline\": \"The world's most user-friendly data tool\", \"title\": \"VP of Engineering\", \"details\": \"Europe \\u2022 Turkey \\u2022 United States \\u2022 Remote possible \\u2022 $60k \\u2013 $75k \\u2022 2.0% \\u2013 5.0%\"}, {\"companyName\": \"Datapad\", \"companySize\": \"1-10 EMPLOYEES\", \"tagline\": \"The world's most user-friendly data tool\", \"title\": \"Founding Engineer (Front-End)\", \"details\": \"Europe \\u2022 United States \\u2022 Remote possible \\u2022 $60k \\u2013 $80k \\u2022 0.5% \\u2013 1.5%\"}, {\"companyName\": \"Recurate | Resale Made Easy\", \"companySize\": \"11-50 EMPLOYEES\", \"tagline\": \"Recurate enables a beautifully integrated resale marketplace directly on ecommerce stores\", \"title\": \"Brand Success Manager\", \"details\": \"Remote possible \\u2022 $60k \\u2013 $85k\"}, {\"companyName\": \"batelle.com\", \"companySize\": \"11-50 EMPLOYEES\", \"tagline\": \"Teach parents how to put their children to bed in under 5 minutes, within a week\", \"title\": \"Senior Sales Consultant\", \"details\": \"Remote possible \\u2022 $45k \\u2013 $65k\"}, {\"companyName\": \"MoodMe\", \"companySize\": \"11-50 EMPLOYEES\", \"tagline\": \"MoodMe provides insights and experiences for the emotion economy with unbiased AI & AR\", \"title\": \"Internship in software development: C/C++\", \"details\": \"Austin \\u2022 Palo Alto \\u2022 Brussels \\u2022 Remote possible \\u2022 $1k \\u2013 $30k \\u2022 0.0% \\u2013 1.7%\"}, {\"companyName\": \"MoodMe\", \"companySize\": \"11-50 EMPLOYEES\", \"tagline\": \"MoodMe provides insights and experiences for the emotion economy with unbiased AI & AR\", \"title\": \"Chief of Design & UX/UI\", \"details\": \"Austin \\u2022 Remote possible \\u2022 3.0% \\u2013 7.0%\"}, {\"companyName\": \"MoodMe\", \"companySize\": \"11-50 EMPLOYEES\", \"tagline\": \"MoodMe provides insights and experiences for the emotion economy with unbiased AI & AR\", \"title\": \"Chief Technology Officer\", \"details\": \"Austin \\u2022 Dallas \\u2022 Houston \\u2022 Remote possible \\u2022 $58k \\u2013 $90k \\u2022 3.0% \\u2013 8.0%\"}, {\"companyName\": \"Fulfil.IO\", \"companySize\": \"11-50 EMPLOYEES\", \"tagline\": \"Next Generation ERP for Retail and Distribution\", \"title\": \"Senior Python Engineer - Remote\", \"details\": \"India \\u2022 South Africa \\u2022 Ukraine \\u2022 Remote possible \\u2022 \\u20b925L \\u2013 \\u20b930L \\u2022 No equity\"}, {\"companyName\": \"Fulfil.IO\", \"companySize\": \"11-50 EMPLOYEES\", \"tagline\": \"Next Generation ERP for Retail and Distribution\", \"title\": \"Senior Python Engineer - Remote\", \"details\": \"Canada \\u2022 India \\u2022 United States \\u2022 Remote possible \\u2022 $70k \\u2013 $150k \\u2022 No equity\"}, {\"companyName\": \"Fulfil.IO\", \"companySize\": \"11-50 EMPLOYEES\", \"tagline\": \"Next Generation ERP for Retail and Distribution\", \"title\": \"Customer Support Representative (Warehouse Operations Specialist) - Remote\", \"details\": \"Canada \\u2022 India \\u2022 United States \\u2022 Remote possible \\u2022 $45k \\u2013 $60k \\u2022 No equity\"}, {\"companyName\": \"Benchling\", \"companySize\": \"201-500 EMPLOYEES\", \"tagline\": \"Informatics platform to accelerate, measure, and forecast R&D from discovery through bioprocessing\", \"title\": \"Senior Revenue Accountant\", \"details\": \"San Francisco \\u2022 $115k \\u2013 $150k AngelList Est.\"}, {\"companyName\": \"Benchling\", \"companySize\": \"201-500 EMPLOYEES\", \"tagline\": \"Informatics platform to accelerate, measure, and forecast R&D from discovery through bioprocessing\", \"title\": \"Head of Account Based Marketing (ABM)\", \"details\": \"San Francisco \\u2022 $155k \\u2013 $200k AngelList Est.\"}, {\"companyName\": \"Benchling\", \"companySize\": \"201-500 EMPLOYEES\", \"tagline\": \"Informatics platform to accelerate, measure, and forecast R&D from discovery through bioprocessing\", \"title\": \"Experienced Software Engineer, Notebook\", \"details\": \"San Francisco \\u2022 $115k \\u2013 $165k AngelList Est.\"}, {\"companyName\": \"Panoply\", \"companySize\": \"1-10 EMPLOYEES\", \"tagline\": \"Go from raw data to complex analysis in under 12 minutes\", \"title\": \"Solutions Architect\", \"details\": \"Arizona \\u2022 Tel Aviv-Yafo \\u2022 Remote possible \\u2022 $75k \\u2013 $85k\"}, {\"companyName\": \"InfluxData\", \"companySize\": \"51-200 EMPLOYEES\", \"tagline\": \"Real-time visibility into stacks, sensors and systems using open source time series database\", \"title\": \"Systems Support Engineer\", \"details\": \"New Castle \\u2022 Remote possible \\u2022 $115k \\u2013 $155k AngelList Est.\"}, {\"companyName\": \"InfluxData\", \"companySize\": \"51-200 EMPLOYEES\", \"tagline\": \"Real-time visibility into stacks, sensors and systems using open source time series database\", \"title\": \"Systems Support Engineer\", \"details\": \"Scotland \\u2022 Remote possible\"}, {\"companyName\": \"InfluxData\", \"companySize\": \"51-200 EMPLOYEES\", \"tagline\": \"Real-time visibility into stacks, sensors and systems using open source time series database\", \"title\": \"Systems Support Engineer\", \"details\": \"Birmingham \\u2022 Remote possible\"}, {\"companyName\": \"Bolt\", \"companySize\": \"51-200 EMPLOYEES\", \"tagline\": \"Provide an optimized checkout experience that is 2x faster than the competition\", \"title\": \"Director, Sales Compensation\", \"details\": \"New York City \\u2022 San Francisco \\u2022 Toronto \\u2022 Salt Lake City \\u2022 Remote possible \\u2022 $145k \\u2013 $190k AngelList Est.\"}, {\"companyName\": \"Bolt\", \"companySize\": \"51-200 EMPLOYEES\", \"tagline\": \"Provide an optimized checkout experience that is 2x faster than the competition\", \"title\": \"Product Recruiting Manager\", \"details\": \"San Francisco \\u2022 $110k \\u2013 $150k AngelList Est.\"}, {\"companyName\": \"Bolt\", \"companySize\": \"51-200 EMPLOYEES\", \"tagline\": \"Provide an optimized checkout experience that is 2x faster than the competition\", \"title\": \"Senior Product Manager - Experimentation\", \"details\": \"Washington DC \\u2022 $110k \\u2013 $150k AngelList Est.\"}, {\"companyName\": \"Littledata\", \"companySize\": \"11-50 EMPLOYEES\", \"tagline\": \"Littledata is the #1 ecommerce data platform for modern DTC brands\", \"title\": \"Product Manager\", \"details\": \"London \\u2022 Remote possible \\u2022 \\u00a365k \\u2013 \\u00a375k \\u2022 No equity\"}, {\"companyName\": \"Littledata\", \"companySize\": \"11-50 EMPLOYEES\", \"tagline\": \"Littledata is the #1 ecommerce data platform for modern DTC brands\", \"title\": \"Partner Marketing Manager\", \"details\": \"New York City \\u2022 Remote possible \\u2022 $70k \\u2013 $80k \\u2022 No equity\"}, {\"companyName\": \"Littledata\", \"companySize\": \"11-50 EMPLOYEES\", \"tagline\": \"Littledata is the #1 ecommerce data platform for modern DTC brands\", \"title\": \"Talent Coordinator\", \"details\": \"Cluj-Napoca \\u2022 Remote possible \\u2022 \\u00a310k \\u2013 \\u00a320k \\u2022 No equity\"}, {\"companyName\": \"Coast\", \"companySize\": \"11-50 EMPLOYEES\", \"tagline\": \"Coast is re-imagining B2B payments, beginning with fleet and fuel\", \"title\": \"Content Marketing Manager\", \"details\": \"New York City \\u2022 $100k \\u2013 $140k AngelList Est.\"}, {\"companyName\": \"Coast\", \"companySize\": \"11-50 EMPLOYEES\", \"tagline\": \"Coast is re-imagining B2B payments, beginning with fleet and fuel\", \"title\": \"Account Executive\", \"details\": \"New York City \\u2022 $100k \\u2013 $135k AngelList Est.\"}, {\"companyName\": \"Coast\", \"companySize\": \"11-50 EMPLOYEES\", \"tagline\": \"Coast is re-imagining B2B payments, beginning with fleet and fuel\", \"title\": \"Sales Manager\", \"details\": \"New York City \\u2022 $70k \\u2013 $90k AngelList Est.\"}, {\"companyName\": \"DarkHorse\", \"companySize\": \"11-50 EMPLOYEES\", \"tagline\": \"Sports Technology, AI/ML Computer Vision, Wearable, SaaS, Analytics\", \"title\": \"SportsOS Communications Lead\", \"details\": \"Palo Alto \\u2022 $72k \\u2013 $72k \\u2022 0.0% \\u2013 3.0%\"}, {\"companyName\": \"DarkHorse\", \"companySize\": \"11-50 EMPLOYEES\", \"tagline\": \"Sports Technology, AI/ML Computer Vision, Wearable, SaaS, Analytics\", \"title\": \"Senior Software Engineer\", \"details\": \"Palo Alto \\u2022 Redwood City \\u2022 San Fransisco \\u2022 $45k \\u2013 $80k \\u2022 0.0% \\u2013 3.0%\"}, {\"companyName\": \"DarkHorse\", \"companySize\": \"11-50 EMPLOYEES\", \"tagline\": \"Sports Technology, AI/ML Computer Vision, Wearable, SaaS, Analytics\", \"title\": \"Quality Analyst Engineer\", \"details\": \"Palo Alto \\u2022 Remote possible \\u2022 $10k \\u2013 $40k \\u2022 No equity\"}, {\"companyName\": \"Vinebase\", \"companySize\": \"11-50 EMPLOYEES\", \"tagline\": \"Building the future of wine online\", \"title\": \"Business Development, Wineries\", \"details\": \"Austin \\u2022 Portland \\u2022 San Francisco \\u2022 Remote possible \\u2022 $50k \\u2013 $100k \\u2022 0.1% \\u2013 0.5%\"}, {\"companyName\": \"Vinebase\", \"companySize\": \"11-50 EMPLOYEES\", \"tagline\": \"Building the future of wine online\", \"title\": \"Growth Marketing, Consumer\", \"details\": \"Austin \\u2022 New York City \\u2022 San Francisco \\u2022 Remote possible \\u2022 $80k \\u2013 $150k \\u2022 0.1% \\u2013 2.0%\"}, {\"companyName\": \"Vinebase\", \"companySize\": \"11-50 EMPLOYEES\", \"tagline\": \"Building the future of wine online\", \"title\": \"Product Designer, Consumer\", \"details\": \"Austin \\u2022 New York City \\u2022 San Francisco \\u2022 Remote possible \\u2022 $100k \\u2013 $150k \\u2022 0.1% \\u2013 2.0%\"}, {\"companyName\": \"The Black Tux\", \"companySize\": \"201-500 EMPLOYEES\", \"tagline\": \"Tuxedos and suits, for rent and for keeps\", \"title\": \"Head of Consumer Insights\", \"details\": \"Remote possible\"}, {\"companyName\": \"Skydog Ops\", \"companySize\": \"1-10 EMPLOYEES\", \"tagline\": \"On-Demand Salesforce + Revenue Ops Consulting\", \"title\": \"Salesforce + RevOps Consultant | Work with High-Growth Startups\", \"details\": \"Remote possible \\u2022 $68k \\u2013 $100k\"}, {\"companyName\": \"Karat\", \"companySize\": \"51-200 EMPLOYEES\", \"tagline\": \"We help companies hire smarter and grow faster, and create more opportunities for software engineers\", \"title\": \"Recruiting Operations Manager\", \"details\": \"Seattle \\u2022 Remote possible \\u2022 $70k \\u2013 $105k AngelList Est.\"}, {\"companyName\": \"Karat\", \"companySize\": \"51-200 EMPLOYEES\", \"tagline\": \"We help companies hire smarter and grow faster, and create more opportunities for software engineers\", \"title\": \"Senior Technical Sourcer\", \"details\": \"Seattle \\u2022 Remote possible \\u2022 $65k \\u2013 $115k AngelList Est.\"}, {\"companyName\": \"Karat\", \"companySize\": \"51-200 EMPLOYEES\", \"tagline\": \"We help companies hire smarter and grow faster, and create more opportunities for software engineers\", \"title\": \"Market Development Representative\", \"details\": \"Seattle \\u2022 Remote possible \\u2022 $60k \\u2013 $90k AngelList Est.\"}, {\"companyName\": \"PredictSpring\", \"companySize\": \"11-50 EMPLOYEES\", \"tagline\": \"Modern POS\", \"title\": \"Regional Vice President of Sales: West\", \"details\": \"California \\u2022 Los Altos \\u2022 $145k \\u2013 $190k AngelList Est.\"}, {\"companyName\": \"PredictSpring\", \"companySize\": \"11-50 EMPLOYEES\", \"tagline\": \"Modern POS\", \"title\": \"VP of Product Management\", \"details\": \"California \\u2022 Los Altos \\u2022 $150k \\u2013 $185k AngelList Est.\"}, {\"companyName\": \"PredictSpring\", \"companySize\": \"11-50 EMPLOYEES\", \"tagline\": \"Modern POS\", \"title\": \"Principal UX Designer\", \"details\": \"California \\u2022 Los Altos\"}, {\"companyName\": \"NewStore\", \"companySize\": \"51-200 EMPLOYEES\", \"tagline\": \"Combining intuitive iPhone applications with real-time visibility into all your back-end data\", \"title\": \"Marketing Manager\", \"details\": \"Boston \\u2022 United States \\u2022 $105k \\u2013 $145k AngelList Est.\"}, {\"companyName\": \"NewStore\", \"companySize\": \"51-200 EMPLOYEES\", \"tagline\": \"Combining intuitive iPhone applications with real-time visibility into all your back-end data\", \"title\": \"Content Marketing Manager\", \"details\": \"Boston \\u2022 United States \\u2022 $105k \\u2013 $145k AngelList Est.\"}, {\"companyName\": \"NewStore\", \"companySize\": \"51-200 EMPLOYEES\", \"tagline\": \"Combining intuitive iPhone applications with real-time visibility into all your back-end data\", \"title\": \"Senior Account Executive, Northern Europe\", \"details\": \"Boston \\u2022 Berlin \\u2022 Remote possible \\u2022 $90k \\u2013 $115k AngelList Est.\"}, {\"companyName\": \"Instawork\", \"companySize\": \"51-200 EMPLOYEES\", \"tagline\": \"Where local businesses and talent find each other\", \"title\": \"Director of Marketing (Open to: LA, SF, Chi, NYC, Miami)\", \"details\": \"Chicago \\u2022 Los Angeles \\u2022 Miami \\u2022 New York City \\u2022 Phoenix \\u2022 More \\u2022 Remote possible\"}, {\"companyName\": \"Instawork\", \"companySize\": \"51-200 EMPLOYEES\", \"tagline\": \"Where local businesses and talent find each other\", \"title\": \"Product Marketing Manager, Consumer (Open to: SF, LA, CHI, NY, MIA)\", \"details\": \"Los Angeles\"}, {\"companyName\": \"Instawork\", \"companySize\": \"51-200 EMPLOYEES\", \"tagline\": \"Where local businesses and talent find each other\", \"title\": \"Lead Technical Recruiter\", \"details\": \"Chicago \\u2022 Los Angeles \\u2022 Miami \\u2022 New York City \\u2022 Phoenix \\u2022 More \\u2022 Remote possible\"}, {\"companyName\": \"Spire\", \"companySize\": \"201-500 EMPLOYEES\", \"tagline\": \"Data & Analytics from Orbit\", \"title\": \"Senior Software Engineer, Constellation Services\", \"details\": \"Washington DC \\u2022 $130k \\u2013 $175k AngelList Est.\"}, {\"companyName\": \"Spire\", \"companySize\": \"201-500 EMPLOYEES\", \"tagline\": \"Data & Analytics from Orbit\", \"title\": \"Applied Research Scientist\", \"details\": \"Boulder \\u2022 $110k \\u2013 $140k AngelList Est.\"}, {\"companyName\": \"Spire\", \"companySize\": \"201-500 EMPLOYEES\", \"tagline\": \"Data & Analytics from Orbit\", \"title\": \"Space Services Customer Success Engineer\", \"details\": \"United States \\u2022 Remote possible\"}, {\"companyName\": \"Lookout\", \"companySize\": \"201-500 EMPLOYEES\", \"tagline\": \"Securing the post-perimeter world to enable enterprises to protect data from threats\", \"title\": \"Senior Software Engineer - (Ruby on Rails/Java, API Design)\", \"details\": \"Canada \\u2022 Toronto \\u2022 Remote possible\"}, {\"companyName\": \"Lookout\", \"companySize\": \"201-500 EMPLOYEES\", \"tagline\": \"Securing the post-perimeter world to enable enterprises to protect data from threats\", \"title\": \"Senior Software Engineer - (Ruby on Rails/Java, API Design)\", \"details\": \"Canada \\u2022 Remote possible\"}, {\"companyName\": \"Lookout\", \"companySize\": \"201-500 EMPLOYEES\", \"tagline\": \"Securing the post-perimeter world to enable enterprises to protect data from threats\", \"title\": \"Senior Engineering Manager - Enterprise Backend Services\", \"details\": \"Boston \\u2022 $125k \\u2013 $175k AngelList Est.\"}, {\"companyName\": \"Loom\", \"companySize\": \"51-200 EMPLOYEES\", \"tagline\": \"Loom is the most effective way to get your message across, no matter where you work\", \"title\": \"Sales Development Manager\", \"details\": \"United States \\u2022 $110k \\u2013 $170k AngelList Est.\"}, {\"companyName\": \"Loom\", \"companySize\": \"51-200 EMPLOYEES\", \"tagline\": \"Loom is the most effective way to get your message across, no matter where you work\", \"title\": \"Technical Support Engineer\", \"details\": \"United States \\u2022 $115k \\u2013 $155k AngelList Est.\"}, {\"companyName\": \"Loom\", \"companySize\": \"51-200 EMPLOYEES\", \"tagline\": \"Loom is the most effective way to get your message across, no matter where you work\", \"title\": \"Director, Sales Operations and Strategy\", \"details\": \"United States \\u2022 $145k \\u2013 $190k AngelList Est.\"}, {\"companyName\": \"PlanetScale\", \"companySize\": \"11-50 EMPLOYEES\", \"tagline\": \"Provides enterprise support for Vitess and hosts a multi-cloud SQL-compliant DBaaS based on Vitess\", \"title\": \"Marketing Program Manager\", \"details\": \"United States \\u2022 Remote possible \\u2022 $80k \\u2013 $110k AngelList Est.\"}, {\"companyName\": \"PlanetScale\", \"companySize\": \"11-50 EMPLOYEES\", \"tagline\": \"Provides enterprise support for Vitess and hosts a multi-cloud SQL-compliant DBaaS based on Vitess\", \"title\": \"Solutions Engineer\", \"details\": \"United States \\u2022 Remote possible \\u2022 $70k \\u2013 $105k AngelList Est.\"}, {\"companyName\": \"PlanetScale\", \"companySize\": \"11-50 EMPLOYEES\", \"tagline\": \"Provides enterprise support for Vitess and hosts a multi-cloud SQL-compliant DBaaS based on Vitess\", \"title\": \"Enterprise Account Executive\", \"details\": \"United States \\u2022 $100k \\u2013 $145k AngelList Est.\"}, {\"companyName\": \"Prisma\", \"companySize\": \"11-50 EMPLOYEES\", \"tagline\": \"The data layer for modern applications\", \"title\": \"Developer Advocate (Frontend / Fullstack)\", \"details\": \"San Francisco \\u2022 Berlin \\u2022 Remote possible \\u2022 $70k \\u2013 $105k AngelList Est.\"}, {\"companyName\": \"Prisma\", \"companySize\": \"11-50 EMPLOYEES\", \"tagline\": \"The data layer for modern applications\", \"title\": \"Growth Product Manager\", \"details\": \"San Francisco \\u2022 Berlin \\u2022 Remote possible \\u2022 $100k \\u2013 $140k AngelList Est.\"}, {\"companyName\": \"Prisma\", \"companySize\": \"11-50 EMPLOYEES\", \"tagline\": \"The data layer for modern applications\", \"title\": \"Developer Advocate (Backend)\", \"details\": \"San Francisco \\u2022 Berlin \\u2022 Remote possible \\u2022 $70k \\u2013 $105k AngelList Est.\"}, {\"companyName\": \"coUrbanize\", \"companySize\": \"11-50 EMPLOYEES\", \"tagline\": \"Not enough people get to influence what\\u2019s built in their neighborhood. It's time to change that\", \"title\": \"Customer Success Operations Manager\", \"details\": \"Boston \\u2022 Remote possible \\u2022 $60k \\u2013 $70k \\u2022 0.0% \\u2013 0.025%\"}, {\"companyName\": \"CREAM and Partners\", \"companySize\": \"11-50 EMPLOYEES\", \"tagline\": \"New Age Incubator and Investment Firm of Blockchain and Cryptocurrency Projects\", \"title\": \"Investment Analyst/Associate\", \"details\": \"Remote possible\"}, {\"companyName\": \"Altonomy\", \"companySize\": \"51-200 EMPLOYEES\", \"tagline\": \"Financial services for the Cryptocurrency industry\", \"title\": \"Blockchain Developer\", \"details\": \"Remote possible \\u2022 $80k \\u2013 $120k \\u2022 No equity\"}, {\"companyName\": \"Apollo.io\", \"companySize\": \"51-200 EMPLOYEES\", \"tagline\": \"Your complete sales and engagement strategy in one unified platform\", \"title\": \"Multilingual Customer Support Representative - English, Spanish, Portuguese (Remote)\", \"details\": \"Brazil \\u2022 Remote possible\"}, {\"companyName\": \"Apollo.io\", \"companySize\": \"51-200 EMPLOYEES\", \"tagline\": \"Your complete sales and engagement strategy in one unified platform\", \"title\": \"Customer Service Representative - Remote\", \"details\": \"Philippines \\u2022 Remote possible\"}, {\"companyName\": \"Apollo.io\", \"companySize\": \"51-200 EMPLOYEES\", \"tagline\": \"Your complete sales and engagement strategy in one unified platform\", \"title\": \"Customer Service Representative - Remote\", \"details\": \"Colombia \\u2022 Remote possible\"}, {\"companyName\": \"Cadoo\", \"companySize\": \"1-10 EMPLOYEES\", \"tagline\": \"We help people reach their fitness goals using financial incentives\", \"title\": \"Retention Marketer/Content Creator\", \"details\": \"San Francisco \\u2022 Remote possible \\u2022 $60k \\u2013 $100k \\u2022 0.1% \\u2013 1.0%\"}, {\"companyName\": \"Cadoo\", \"companySize\": \"1-10 EMPLOYEES\", \"tagline\": \"We help people reach their fitness goals using financial incentives\", \"title\": \"Senior Backend Developer\", \"details\": \"San Fransisco \\u2022 Remote possible \\u2022 $90k \\u2013 $150k \\u2022 0.01% \\u2013 1.5%\"}, {\"companyName\": \"Plivo\", \"companySize\": \"51-200 EMPLOYEES\", \"tagline\": \"API platform for Voice call & SMS\", \"title\": \"Senior Communications Manager - Solutions\", \"details\": \"United States \\u2022 Remote possible \\u2022 $85k \\u2013 $115k AngelList Est.\"}, {\"companyName\": \"Plivo\", \"companySize\": \"51-200 EMPLOYEES\", \"tagline\": \"API platform for Voice call & SMS\", \"title\": \"Senior Sales Engineer - Solutions\", \"details\": \"United States \\u2022 Remote possible \\u2022 $80k \\u2013 $115k AngelList Est.\"}, {\"companyName\": \"Plivo\", \"companySize\": \"51-200 EMPLOYEES\", \"tagline\": \"API platform for Voice call & SMS\", \"title\": \"Senior Communications Manager - API Platform\", \"details\": \"United States \\u2022 Remote possible \\u2022 $85k \\u2013 $115k AngelList Est.\"}, {\"companyName\": \"Remote\", \"companySize\": \"201-500 EMPLOYEES\", \"tagline\": \"Remote allows companies to employ anyone, anywhere\", \"title\": \"Manager, Corporate FP&A\", \"details\": \"United States \\u2022 $100k \\u2013 $130k AngelList Est.\"}, {\"companyName\": \"Remote\", \"companySize\": \"201-500 EMPLOYEES\", \"tagline\": \"Remote allows companies to employ anyone, anywhere\", \"title\": \"Senior Accountant, Payroll\", \"details\": \"United States \\u2022 $100k \\u2013 $130k AngelList Est.\"}, {\"companyName\": \"Remote\", \"companySize\": \"201-500 EMPLOYEES\", \"tagline\": \"Remote allows companies to employ anyone, anywhere\", \"title\": \"Sr Manager, Payroll Accounting\", \"details\": \"United States \\u2022 $100k \\u2013 $130k AngelList Est.\"}, {\"companyName\": \"TigerConnect\", \"companySize\": \"51-200 EMPLOYEES\", \"tagline\": \"Care team collaboration, patient communication and information at your fingertips\", \"title\": \"Sr. Manager, Technical Implementation\", \"details\": \"Santa Monica \\u2022 Remote possible \\u2022 $150k \\u2013 $195k AngelList Est.\"}, {\"companyName\": \"TigerConnect\", \"companySize\": \"51-200 EMPLOYEES\", \"tagline\": \"Care team collaboration, patient communication and information at your fingertips\", \"title\": \"Sr. Technical Recruiter\", \"details\": \"Santa Monica \\u2022 Remote possible \\u2022 $105k \\u2013 $145k AngelList Est.\"}, {\"companyName\": \"TigerConnect\", \"companySize\": \"51-200 EMPLOYEES\", \"tagline\": \"Care team collaboration, patient communication and information at your fingertips\", \"title\": \"Deal Desk Specialist\", \"details\": \"Mexico \\u2022 Guadalajara \\u2022 Remote possible\"}, {\"companyName\": \"CrowdComfort\", \"companySize\": \"1-10 EMPLOYEES\", \"tagline\": \"Waze for Buildings\", \"title\": \"Senior Sales Executive\", \"details\": \"Boston \\u2022 Massachusetts \\u2022 $250k \\u2013 $300k \\u2022 0.25% \\u2013 0.5%\"}, {\"companyName\": \"CrowdComfort\", \"companySize\": \"1-10 EMPLOYEES\", \"tagline\": \"Waze for Buildings\", \"title\": \"Customer Success Manager\", \"details\": \"Boston \\u2022 $75k \\u2013 $100k \\u2022 0.1% \\u2013 0.25%\"}, {\"companyName\": \"CrowdComfort\", \"companySize\": \"1-10 EMPLOYEES\", \"tagline\": \"Waze for Buildings\", \"title\": \"Inside Sales Representative\", \"details\": \"Boston \\u2022 Massachusetts \\u2022 Remote possible \\u2022 $100k \\u2013 $150k \\u2022 0.012% \\u2013 0.025%\"}, {\"companyName\": \"Visible\", \"companySize\": \"11-50 EMPLOYEES\", \"tagline\": \"Update investors, raise capital and track metrics from a single platform\", \"title\": \"Founder Success Manager\", \"details\": \"Chicago \\u2022 Miami \\u2022 Fort Collins \\u2022 Remote possible \\u2022 $60k \\u2013 $80k \\u2022 0.05% \\u2013 0.25%\"}, {\"companyName\": \"isee ai\", \"companySize\": \"11-50 EMPLOYEES\", \"tagline\": \"An ai platform focused on building the road to a fully autonomous future\", \"title\": \"Principal Perception Engineer\", \"details\": \"Boston \\u2022 Cambridge \\u2022 Remote possible \\u2022 $160k \\u2013 $200k AngelList Est.\"}, {\"companyName\": \"isee ai\", \"companySize\": \"11-50 EMPLOYEES\", \"tagline\": \"An ai platform focused on building the road to a fully autonomous future\", \"title\": \"Service Desk Lead\", \"details\": \"Boston \\u2022 Cambridge \\u2022 Remote possible\"}, {\"companyName\": \"isee ai\", \"companySize\": \"11-50 EMPLOYEES\", \"tagline\": \"An ai platform focused on building the road to a fully autonomous future\", \"title\": \"Staff Test Engineer - Testing Tools and Methods\", \"details\": \"Boston \\u2022 Cambridge \\u2022 Remote possible \\u2022 $75k \\u2013 $130k AngelList Est.\"}, {\"companyName\": \"Kisi\", \"companySize\": \"51-200 EMPLOYEES\", \"tagline\": \"Modern door security for facilities where the future is made on demand\", \"title\": \"Business Development Representative (Junior SaaS Sales Program)\", \"details\": \"Brooklyn \\u2022 Remote possible \\u2022 $50k \\u2013 $60k \\u2022 No equity\"}, {\"companyName\": \"Kisi\", \"companySize\": \"51-200 EMPLOYEES\", \"tagline\": \"Modern door security for facilities where the future is made on demand\", \"title\": \"Account Executive\", \"details\": \"Brooklyn \\u2022 Remote possible \\u2022 $57k \\u2013 $80k\"}]}}, {\"actions\": false, \"mode\": \"vega-lite\"});\n</script>",
      "text/plain": "alt.Chart(...)"
     },
     "metadata": {}
    }
   ]
  },
  {
   "cell_type": "code",
   "metadata": {
    "tags": [],
    "cell_id": "00003-af1b30dc-80cc-44d0-b3c8-5ac6aee7df28",
    "deepnote_to_be_reexecuted": false,
    "source_hash": "e0ba6281",
    "execution_start": 1640898419976,
    "execution_millis": 0,
    "deepnote_output_heights": [
     232.34375
    ],
    "deepnote_app_coordinates": {
     "x": 0,
     "y": 18,
     "w": 12,
     "h": 5
    },
    "deepnote_cell_type": "code"
   },
   "source": "#define company size\ndf['sizeCategory'] = df.companySize.replace({\n    '1-10 EMPLOYEES': 'Small',\n    '11-50 EMPLOYEES': 'Medium',\n    '51-200 EMPLOYEES': 'Large',\n    '201-500 EMPLOYEES': 'X-Large'})",
   "execution_count": 4,
   "outputs": []
  },
  {
   "cell_type": "code",
   "metadata": {
    "tags": [],
    "cell_id": "00004-125a374b-7309-41d2-8940-3fece7858704",
    "deepnote_to_be_reexecuted": false,
    "source_hash": "35f6c2dc",
    "execution_start": 1640898419977,
    "execution_millis": 0,
    "deepnote_app_coordinates": {
     "x": 0,
     "y": 24,
     "w": 12,
     "h": 5
    },
    "deepnote_cell_type": "code"
   },
   "source": "#count unique companies\nunique_df = df.drop_duplicates('companyName')",
   "execution_count": 5,
   "outputs": []
  },
  {
   "cell_type": "code",
   "metadata": {
    "tags": [],
    "cell_id": "00004-3727670b-a125-4300-964b-f9b5f8956889",
    "deepnote_to_be_reexecuted": false,
    "source_hash": "1899d17c",
    "execution_start": 1640898419977,
    "execution_millis": 1,
    "deepnote_output_heights": [
     148,
     280
    ],
    "deepnote_app_coordinates": {
     "x": 0,
     "y": 30,
     "w": 12,
     "h": 5
    },
    "deepnote_cell_type": "code"
   },
   "source": "#Visualize company and job counts\norder = ['Small', 'Medium', 'Large', 'X-Large']\ncombined = pd.DataFrame({\n    'Company count': unique_df.sizeCategory.value_counts().reindex(order),\n    'Job count': df.sizeCategory.value_counts().reindex(order)}).reset_index().rename({'index': 'Company size'})",
   "execution_count": 6,
   "outputs": []
  },
  {
   "cell_type": "code",
   "metadata": {
    "tags": [],
    "cell_id": "00006-62be5d64-6bf6-41f6-9764-2d1b4d51d9da",
    "deepnote_to_be_reexecuted": false,
    "source_hash": "25891a6b",
    "execution_start": 1640898419978,
    "execution_millis": 1831,
    "deepnote_output_heights": [
     264
    ],
    "deepnote_app_coordinates": {
     "x": 0,
     "y": 36,
     "w": 12,
     "h": 5
    },
    "deepnote_cell_type": "code"
   },
   "source": "plot = combined.rename(columns={'index': 'Company size'}).plot.bar(x='Company size', y=['Company count', 'Job count'], rot=0)\nfor container in plot.containers:\n    plot.bar_label(container)",
   "execution_count": 7,
   "outputs": [
    {
     "data": {
      "text/plain": "<Figure size 432x288 with 1 Axes>",
      "image/png": "[encoded data removed]"
     },
     "metadata": {
      "needs_background": "light",
      "image/png": {
       "width": 375,
       "height": 262
      }
     },
     "output_type": "display_data"
    }
   ]
  },
  {
   "cell_type": "code",
   "metadata": {
    "tags": [],
    "cell_id": "00007-1485f135-380f-4c6a-9e90-b2cd724a118b",
    "deepnote_to_be_reexecuted": false,
    "source_hash": "d226dd3b",
    "execution_start": 1640898421829,
    "execution_millis": 649,
    "deepnote_output_heights": [
     21.1875
    ],
    "deepnote_app_coordinates": {
     "x": 0,
     "y": 42,
     "w": 12,
     "h": 5
    },
    "deepnote_cell_type": "code"
   },
   "source": "plot.get_figure().savefig('figure1.png', dpi=400)",
   "execution_count": 8,
   "outputs": []
  },
  {
   "cell_type": "code",
   "metadata": {
    "tags": [],
    "cell_id": "00008-da7d4e9e-8d34-48ed-80c4-3a400c57e0df",
    "deepnote_to_be_reexecuted": false,
    "source_hash": "fb47bf2b",
    "execution_start": 1640898422490,
    "execution_millis": 8,
    "deepnote_output_heights": [
     59.59375
    ],
    "deepnote_app_coordinates": {
     "x": 0,
     "y": 48,
     "w": 12,
     "h": 5
    },
    "deepnote_cell_type": "code"
   },
   "source": "#check how many jobs have specified salary\ndf.details.map(lambda x: '$' in x).value_counts() / (253 + 34)",
   "execution_count": 9,
   "outputs": [
    {
     "output_type": "execute_result",
     "execution_count": 9,
     "data": {
      "text/plain": "True     0.881533\nFalse    0.118467\nName: details, dtype: float64"
     },
     "metadata": {}
    }
   ]
  },
  {
   "cell_type": "code",
   "metadata": {
    "tags": [],
    "cell_id": "00008-b7029e9a-c0aa-4cd6-9ff6-8050fb102e43",
    "deepnote_to_be_reexecuted": false,
    "source_hash": "7d87ae1e",
    "execution_start": 1640898422531,
    "execution_millis": 9,
    "deepnote_output_heights": [
     606.328125
    ],
    "deepnote_app_coordinates": {
     "x": 0,
     "y": 54,
     "w": 12,
     "h": 5
    },
    "deepnote_cell_type": "code"
   },
   "source": "#check how many jobs have specified location\ndef has_location(det):\n    return det == 'San Francisco' or det == 'Los Angeles' or (('•' in det or ('• Remote possible' in det)) and not det.startswith('Remote possible'))\n# has location city plus remote possible\n# not only remote possible \n# not empty\n\n\ndf['located'] = df.details.map(has_location)\nlist(df[df['located']].details)",
   "execution_count": 10,
   "outputs": [
    {
     "output_type": "execute_result",
     "execution_count": 10,
     "data": {
      "text/plain": "['San Francisco Bay Area • Remote possible • $280k – $360k • 0.25% – 0.5%',\n 'San Francisco • Remote possible • $110k – $170k • 0.1% – 0.4%',\n 'San Francisco • San Francisco Bay Area • Remote possible • $125k – $200k • 0.2% – 0.6%',\n 'New York City • London • New York • Remote possible • $250k – $330k • 1.0% – 3.0%',\n 'California • Los Angeles • New York City • Remote possible • $80k – $150k • 1.0% – 5.0%',\n 'Los Angeles • San Francisco • London • Remote possible • $60k – $80k • 1.0% – 3.0%',\n 'Palo Alto • $250k – $320k • 0.5% – 1.0%',\n 'Palo Alto • $150k – $180k • 0.1% – 0.1%',\n 'Palo Alto • $200k – $240k • 0.1% – 0.2%',\n 'New York City • Brooklyn • San Francisco Bay Area • $130k – $180k • 1.0% – 1.5%',\n 'New York City • San Francisco Bay Area • $170k – $210k • 1.0% – 2.5%',\n 'San Francisco Bay Area • Remote possible • $150k – $200k • 0.06% – 0.075%',\n 'San Francisco Bay Area • Remote possible • $105k – $140k • 0.016% – 0.02%',\n 'San Francisco Bay Area • Remote possible • $150k – $185k • 0.044% – 0.055%',\n 'New York City • Remote possible • $150k – $225k • 0.25% – 0.75%',\n 'New York City • Remote possible • $55k – $75k • 0.05% – 0.15%',\n 'New York City • Remote possible • $160k – $190k',\n 'San Francisco',\n 'San Francisco • Remote possible • $160k – $190k',\n 'San Francisco',\n 'Seattle • United States • San Francisco • Remote possible • $150k – $190k',\n 'Salt Lake City • Draper • Remote • Remote possible • $110k – $125k',\n 'San Francisco • Santa Monica • San Francisco Bay Area • Remote possible • $90k – $110k',\n 'San Francisco • Remote possible • $145k – $165k • 0.1% – 0.6%',\n 'Los Angeles • Remote possible • $120k – $150k • 0.0% – 0.2%',\n 'Canada • Mexico • United States • Remote possible • $120k – $180k • 0.01% – 0.02%',\n 'San Francisco • Remote possible • $60k – $80k',\n 'New York City • Remote possible • $40k – $56k',\n 'New York City • San Francisco • Remote possible • $45k – $90k • No equity',\n 'Boulder • Los Angeles • San Francisco Bay Area • Remote possible • $150k – $220k • 0.1% – 1.0%',\n 'New York City • United States • Remote possible • $150k – $200k',\n 'California • United States • San Francisco • Remote possible • $120k – $175k',\n 'California • United States • San Francisco • Remote possible • $140k – $200k',\n 'San Francisco • Remote possible • $150k – $225k • 0.1% – 0.25%',\n 'New York City • Remote • Remote possible • $115k – $135k • 0.1% – 0.25%',\n 'New York City • Orlando • Remote possible • $125k – $145k • 0.05% – 0.15%',\n 'Los Angeles County • $75k – $100k • 0.05% – 0.15%',\n 'New York City • San Francisco • Remote • Remote possible • $150k – $200k • 0.01% – 0.25%',\n 'Oakland • Remote possible • $120k – $150k',\n 'Oakland • Remote possible • $130k – $165k',\n 'Oakland • Remote possible • $50k – $50k',\n 'San Francisco Bay Area • Remote possible • $50k – $80k • No equity',\n 'San Francisco Bay Area • Remote possible • $80k – $140k • 0.25% – 1.5%',\n 'San Francisco Bay Area • Remote possible • $105k – $150k • 0.5% – 2.0%',\n 'New York City • Remote possible • $150k – $200k',\n 'New York City • $110k – $150k AngelList Est.',\n 'New York City • $70k – $105k AngelList Est.',\n 'San Francisco • Remote • Remote possible • $110k – $150k • 0.1% – 0.5%',\n 'United States • Remote possible • $130k – $160k • 0.35% – 0.75%',\n 'San Francisco • Remote possible • $150k – $200k • 0.2% – 0.5%',\n 'Redwood City • San Francisco Bay Area • Remote possible • $145k – $175k • 0.1% – 0.35%',\n 'Redwood City • San Francisco Bay Area • Remote possible • $145k – $200k • 0.1% – 1.0%',\n 'San Francisco Bay Area • Remote possible • $145k – $175k • 0.1% – 0.35%',\n 'San Francisco • Remote possible • $50k – $60k',\n 'New York City • San Francisco • Remote possible • $150k – $230k',\n 'Silicon Valley • San Francisco • San Francisco Bay Area • Remote possible • $90k – $140k • 0.1% – 0.5%',\n 'San Francisco • Oakland • San Francisco Bay Area • $100k – $180k • 0.1% – 0.5%',\n 'Silicon Valley • San Francisco • San Francisco Bay Area • $120k – $160k • 0.5% – 1.5%',\n 'Alexandria • $130k – $150k • No equity',\n 'New York City • New York • Manhattan • $120k – $130k',\n 'Brazil • Mexico • Colombia • Remote possible • $42k – $84k • No equity',\n 'United States • Remote possible • $100k – $180k',\n 'Portland • United States • Remote • Remote possible • $135k – $160k',\n 'Portland • Remote possible • $60k – $120k',\n 'Portland • Remote possible • $75k – $110k',\n 'United States • Remote possible • $100k – $120k • 0.01% – 0.05%',\n 'Boston • New York City • Philadelphia • Remote possible • $100k – $120k • 0.1% – 0.5%',\n 'Boston • New York City • Philadelphia • Remote possible • $125k – $200k • 0.1% – 0.5%',\n 'New York City • Washington DC • San Francisco • Remote possible • $115k – $140k',\n 'New York City • Washington DC • San Francisco • Remote possible • $115k – $140k',\n 'San Francisco • Remote • Remote possible • $110k – $160k • 0.35% – 1.0%',\n 'San Francisco • Remote possible • $115k – $150k',\n 'San Francisco • $125k – $180k AngelList Est.',\n 'San Francisco • $110k – $155k AngelList Est.',\n 'San Francisco • Remote possible • $80k – $100k • 0.05% – 0.1%',\n 'San Francisco • Remote possible • $60k – $80k • 0.04% – 0.05%',\n 'San Francisco • Remote possible • $90k – $120k • 0.1% – 0.2%',\n 'Austin • New York City • San Francisco • Remote possible • $120k – $200k',\n 'Austin • New York City • San Francisco • Remote possible • $100k – $150k',\n 'Austin • New York City • San Francisco • Remote possible • $120k – $200k',\n 'New York City • Remote possible • $90k – $160k • 0.0% – 1.0%',\n 'New York City • Remote possible • $110k – $180k • 0.0% – 1.5%',\n 'Miami • New York City • Washington DC • Nashville • Tysons • Remote possible • $90k – $100k',\n 'Miami • New York City • Washington DC • Nashville • Tysons • Remote possible • $235k – $285k AngelList Est.',\n 'Washington DC • Remote possible • $75k – $75k',\n 'Chicago • Remote possible • $120k – $160k • No equity',\n 'Chicago • $60k – $100k • No equity',\n 'Jaipur • Remote possible • ₹15L – ₹40L • No equity',\n 'Canada • India • Remote • Remote possible • $23k – $45k • 0.0% – 1.0%',\n 'Santa Clara • Remote possible • $80k – $150k • 3.0% – 5.0%',\n 'Canada • India • United States • Remote possible • $38k – $73k • 3.0% – 5.0%',\n 'San Francisco • Santa Monica • Remote possible • $120k – $200k • 0.0% – 0.15%',\n 'San Francisco • Santa Monica • Remote possible • $60k – $140k • 0.0% – 0.25%',\n 'Santa Monica • Remote possible • $40k – $120k • 0.0% – 0.25%',\n 'Denver • North America • Nashville • Remote possible • $130k – $160k • 0.25% – 0.8%',\n 'San Mateo • Remote • Remote possible • $270k – $350k • 1.0% – 3.0%',\n 'Sioux Falls • Remote possible • $130k – $140k',\n 'Sioux Falls • Remote possible • $130k – $140k',\n 'New York City • Amsterdam • Remote possible • $120k – $150k • 5.0% – 10.0%',\n 'New York City • Remote possible • No equity',\n 'New York City • Remote possible',\n 'Chicago • New York City • San Francisco • Remote possible • $110k – $125k • 0.15% – 0.3%',\n 'Miami • New York City • $115k – $135k AngelList Est.',\n 'New York City • $65k – $95k AngelList Est.',\n 'Miami • New York City • $80k – $105k AngelList Est.',\n 'San Francisco • Remote possible • $100k – $150k',\n 'San Francisco Bay Area • $100k – $150k',\n 'Chicago • $100k – $115k',\n 'Chicago • Remote possible • $95k – $130k',\n 'Chicago • Remote possible • $100k – $120k',\n 'New York • Remote possible • $100k – $140k AngelList Est.',\n 'New York • $110k – $130k',\n 'New York City • Remote possible • $90k – $115k AngelList Est.',\n 'Boston • New York City • San Francisco • Remote possible • $95k – $150k • 0.1% – 0.25%',\n 'Seattle • Remote possible • $110k – $160k',\n 'Seattle • Remote possible • $60k – $80k',\n 'Seattle • Remote possible • $60k – $75k',\n 'Tampa • Skopje • Remote • Remote possible • $120k – $200k',\n 'Tampa • Skopje • Remote • Remote possible • $120k – $175k',\n 'Tampa • Skopje • Remote • Remote possible • $40k – $80k • 0.01% – 0.25%',\n 'Sunnyvale • Remote possible • $100k – $140k • 0.2% – 0.5%',\n 'San Francisco Bay Area • $80k – $150k • 0.1% – 0.5%',\n 'San Francisco Bay Area • $150k – $180k • 0.5% – 1.5%',\n 'San Diego • Remote possible • $100k – $180k',\n 'San Diego • Remote possible • $120k – $140k',\n 'San Diego • Remote possible • $120k – $165k',\n 'Cambridge • Remote possible • $100k – $135k',\n 'San Diego • Remote possible • $75k – $115k • 0.01% – 0.1%',\n 'Detroit • Remote possible • $45k – $65k • 0.01% – 0.1%',\n 'San Diego • Remote possible • $170k – $220k • 0.05% – 1.0%',\n 'New York City • $120k – $150k',\n 'New York City • $130k – $175k AngelList Est.',\n 'New York City • $130k – $175k',\n 'San Francisco • Remote possible • $100k – $150k',\n 'Portland • Seattle • Oregon • Remote possible • $80k – $120k • 0.01% – 0.15%',\n 'San Jose • Oakland • San Francisco Bay Area • Remote possible • $70k – $120k • 0.01% – 0.15%',\n 'Pasadena • $100k – $120k • 0.01% – 0.1%',\n 'Pasadena • $80k – $110k • 0.0% – 0.01%',\n 'Los Angeles • No equity$110k – $150k AngelList Est.',\n 'Arlington • Remote possible • $115k – $135k',\n 'Arlington • Remote possible • $90k – $120k',\n 'Arlington • Remote possible • $75k – $95k',\n 'San Francisco Bay Area • $100k – $140k • 0.01% – 0.02%',\n 'San Francisco Bay Area • Remote possible • $75k – $95k • 0.1% – 0.2%',\n 'San Francisco • $110k – $130k • 0.1% – 0.2%',\n 'United States • Washington • District of Columbia • Remote possible • $95k – $135k • 0.01% – 0.05%',\n 'United States • Washington • District of Columbia • Remote possible • $50k – $70k AngelList Est.',\n 'United States • Washington • District of Columbia • $50k – $70k AngelList Est.',\n 'San Francisco • Remote possible • $80k – $150k • 0.2% – 1.0%',\n 'Atlanta • Remote possible • $80k – $100k',\n 'Austin • Montreal • $90k – $140k • 0.1% – 0.5%',\n 'Seattle • Washington DC • San Francisco • Remote possible • $60k – $100k • 0.0% – 5.0%',\n 'Boston • Seattle • Washington DC • Remote possible • 10.0% – 20.0%$105k – $165k AngelList Est.',\n 'Seattle • Remote possible • $40k – $60k • 2.0% – 4.0%',\n 'Maine • Remote possible • $80k – $130k • 0.0% – 1.0%',\n 'Boston • Remote possible • $80k – $160k • 0.1% – 0.5%',\n 'San Francisco • Remote possible • $80k – $120k',\n 'San Francisco • Remote possible • $55k – $80k',\n 'Michigan • Remote possible • $40k – $65k • No equity',\n 'San Mateo • Remote possible • $80k – $120k • 0.25% – 0.5%',\n 'San Mateo • Remote possible • $150k – $225k • 1.0% – 5.0%',\n 'Silicon Valley • Remote possible • $80k – $160k • No equity',\n 'Orlando • Remote possible • $80k – $140k • 0.1% – 0.5%',\n 'Orlando • Remote possible',\n 'Los Angeles • $80k – $130k • 0.005% – 0.01%',\n 'Los Angeles • $60k – $130k • 0.01% – 1.0%',\n 'Los Angeles • $150k – $220k • 0.005% – 0.01%',\n 'Los Angeles • New York City • San Francisco Bay Area • Remote possible • $70k – $130k • 0.01% – 0.25%',\n 'United States • United Kingdom • Taiwan • Remote possible • $125k – $165k AngelList Est.',\n 'United States • United Kingdom • Taiwan • Remote possible • $115k – $160k AngelList Est.',\n 'Austin • Remote possible • $105k – $140k AngelList Est.',\n 'Austin • Remote possible • $70k – $90k • 0.1% – 1.0%',\n 'Durham • Raleigh • Chapel Hill • Remote possible • $75k – $95k • No equity',\n 'Durham • Raleigh • Chapel Hill • Remote possible • $45k – $55k • No equity',\n 'Durham • Raleigh • Chapel Hill • Remote possible • $52k – $72k',\n 'United States • Remote possible • $60k – $85k',\n 'United States • Remote possible • $250k – $300k • 0.0% – 1.0%',\n 'United States • Remote possible • $60k – $70k',\n 'Los Angeles • Bengaluru • $80k – $120k • 0.01% – 0.1%',\n 'New York City • Remote possible • $80k – $130k • 0.5% – 2.0%',\n 'Miami • San Diego • Fort Lauderdale • $75k – $120k • 0.25% – 0.5%',\n 'Chicago • Remote possible • $74k – $102k',\n 'Chicago • Remote possible • $60k – $85k AngelList Est.',\n 'Chicago • Remote possible • $60k – $95k AngelList Est.',\n 'Europe • Turkey • United States • Remote possible • $60k – $75k • 2.0% – 5.0%',\n 'Europe • United States • Remote possible • $60k – $80k • 0.5% – 1.5%',\n 'Austin • Palo Alto • Brussels • Remote possible • $1k – $30k • 0.0% – 1.7%',\n 'Austin • Remote possible • 3.0% – 7.0%',\n 'Austin • Dallas • Houston • Remote possible • $58k – $90k • 3.0% – 8.0%',\n 'India • South Africa • Ukraine • Remote possible • ₹25L – ₹30L • No equity',\n 'Canada • India • United States • Remote possible • $70k – $150k • No equity',\n 'Canada • India • United States • Remote possible • $45k – $60k • No equity',\n 'San Francisco • $115k – $150k AngelList Est.',\n 'San Francisco • $155k – $200k AngelList Est.',\n 'San Francisco • $115k – $165k AngelList Est.',\n 'Arizona • Tel Aviv-Yafo • Remote possible • $75k – $85k',\n 'New Castle • Remote possible • $115k – $155k AngelList Est.',\n 'Scotland • Remote possible',\n 'Birmingham • Remote possible',\n 'New York City • San Francisco • Toronto • Salt Lake City • Remote possible • $145k – $190k AngelList Est.',\n 'San Francisco • $110k – $150k AngelList Est.',\n 'Washington DC • $110k – $150k AngelList Est.',\n 'London • Remote possible • £65k – £75k • No equity',\n 'New York City • Remote possible • $70k – $80k • No equity',\n 'Cluj-Napoca • Remote possible • £10k – £20k • No equity',\n 'New York City • $100k – $140k AngelList Est.',\n 'New York City • $100k – $135k AngelList Est.',\n 'New York City • $70k – $90k AngelList Est.',\n 'Palo Alto • $72k – $72k • 0.0% – 3.0%',\n 'Palo Alto • Redwood City • San Fransisco • $45k – $80k • 0.0% – 3.0%',\n 'Palo Alto • Remote possible • $10k – $40k • No equity',\n 'Austin • Portland • San Francisco • Remote possible • $50k – $100k • 0.1% – 0.5%',\n 'Austin • New York City • San Francisco • Remote possible • $80k – $150k • 0.1% – 2.0%',\n 'Austin • New York City • San Francisco • Remote possible • $100k – $150k • 0.1% – 2.0%',\n 'Seattle • Remote possible • $70k – $105k AngelList Est.',\n 'Seattle • Remote possible • $65k – $115k AngelList Est.',\n 'Seattle • Remote possible • $60k – $90k AngelList Est.',\n 'California • Los Altos • $145k – $190k AngelList Est.',\n 'California • Los Altos • $150k – $185k AngelList Est.',\n 'California • Los Altos',\n 'Boston • United States • $105k – $145k AngelList Est.',\n 'Boston • United States • $105k – $145k AngelList Est.',\n 'Boston • Berlin • Remote possible • $90k – $115k AngelList Est.',\n 'Chicago • Los Angeles • Miami • New York City • Phoenix • More • Remote possible',\n 'Los Angeles',\n 'Chicago • Los Angeles • Miami • New York City • Phoenix • More • Remote possible',\n 'Washington DC • $130k – $175k AngelList Est.',\n 'Boulder • $110k – $140k AngelList Est.',\n 'United States • Remote possible',\n 'Canada • Toronto • Remote possible',\n 'Canada • Remote possible',\n 'Boston • $125k – $175k AngelList Est.',\n 'United States • $110k – $170k AngelList Est.',\n 'United States • $115k – $155k AngelList Est.',\n 'United States • $145k – $190k AngelList Est.',\n 'United States • Remote possible • $80k – $110k AngelList Est.',\n 'United States • Remote possible • $70k – $105k AngelList Est.',\n 'United States • $100k – $145k AngelList Est.',\n 'San Francisco • Berlin • Remote possible • $70k – $105k AngelList Est.',\n 'San Francisco • Berlin • Remote possible • $100k – $140k AngelList Est.',\n 'San Francisco • Berlin • Remote possible • $70k – $105k AngelList Est.',\n 'Boston • Remote possible • $60k – $70k • 0.0% – 0.025%',\n 'Brazil • Remote possible',\n 'Philippines • Remote possible',\n 'Colombia • Remote possible',\n 'San Francisco • Remote possible • $60k – $100k • 0.1% – 1.0%',\n 'San Fransisco • Remote possible • $90k – $150k • 0.01% – 1.5%',\n 'United States • Remote possible • $85k – $115k AngelList Est.',\n 'United States • Remote possible • $80k – $115k AngelList Est.',\n 'United States • Remote possible • $85k – $115k AngelList Est.',\n 'United States • $100k – $130k AngelList Est.',\n 'United States • $100k – $130k AngelList Est.',\n 'United States • $100k – $130k AngelList Est.',\n 'Santa Monica • Remote possible • $150k – $195k AngelList Est.',\n 'Santa Monica • Remote possible • $105k – $145k AngelList Est.',\n 'Mexico • Guadalajara • Remote possible',\n 'Boston • Massachusetts • $250k – $300k • 0.25% – 0.5%',\n 'Boston • $75k – $100k • 0.1% – 0.25%',\n 'Boston • Massachusetts • Remote possible • $100k – $150k • 0.012% – 0.025%',\n 'Chicago • Miami • Fort Collins • Remote possible • $60k – $80k • 0.05% – 0.25%',\n 'Boston • Cambridge • Remote possible • $160k – $200k AngelList Est.',\n 'Boston • Cambridge • Remote possible',\n 'Boston • Cambridge • Remote possible • $75k – $130k AngelList Est.',\n 'Brooklyn • Remote possible • $50k – $60k • No equity',\n 'Brooklyn • Remote possible • $57k – $80k']"
     },
     "metadata": {}
    }
   ]
  },
  {
   "cell_type": "code",
   "metadata": {
    "tags": [],
    "cell_id": "00010-c49e13ab-1297-43cb-9869-df0dcf5654c3",
    "deepnote_to_be_reexecuted": false,
    "source_hash": "54b36ff9",
    "execution_start": 1640898422545,
    "execution_millis": 7,
    "deepnote_output_heights": [
     424.34375
    ],
    "deepnote_app_coordinates": {
     "x": 0,
     "y": 60,
     "w": 12,
     "h": 5
    },
    "deepnote_cell_type": "code"
   },
   "source": "list(df[~df.located].details)",
   "execution_count": 11,
   "outputs": [
    {
     "output_type": "execute_result",
     "execution_count": 11,
     "data": {
      "text/plain": "['Remote possible • $60k – $85k',\n 'Remote possible • $45k – $65k',\n 'Remote possible',\n 'Remote possible • $68k – $100k',\n 'Remote possible',\n 'Remote possible • $80k – $120k • No equity',\n '',\n '',\n 'Remote possible • $60k – $85k',\n 'Remote possible • $45k – $65k',\n 'Remote possible',\n 'Remote possible • $68k – $100k',\n 'Remote possible',\n 'Remote possible • $80k – $120k • No equity',\n '',\n '',\n 'Remote possible • $60k – $85k',\n 'Remote possible • $45k – $65k',\n 'Remote possible',\n 'Remote possible • $68k – $100k',\n 'Remote possible',\n 'Remote possible • $80k – $120k • No equity']"
     },
     "metadata": {}
    }
   ]
  },
  {
   "cell_type": "code",
   "metadata": {
    "tags": [],
    "cell_id": "00011-b68fbbf2-5b4c-47b5-a3dc-f0cdc1becf9e",
    "deepnote_to_be_reexecuted": false,
    "source_hash": "51fe968c",
    "execution_start": 1640898422554,
    "execution_millis": 17,
    "deepnote_output_heights": [
     59.59375
    ],
    "deepnote_app_coordinates": {
     "x": 0,
     "y": 66,
     "w": 12,
     "h": 5
    },
    "deepnote_cell_type": "code"
   },
   "source": "df.located.value_counts() / (265 + 22)",
   "execution_count": 12,
   "outputs": [
    {
     "output_type": "execute_result",
     "execution_count": 12,
     "data": {
      "text/plain": "True     0.923345\nFalse    0.076655\nName: located, dtype: float64"
     },
     "metadata": {}
    }
   ]
  },
  {
   "cell_type": "code",
   "metadata": {
    "tags": [],
    "cell_id": "00002-e757ccbb-81d6-4f6e-8f16-8eb9be4bfc44",
    "deepnote_to_be_reexecuted": false,
    "source_hash": "dfab9e05",
    "execution_start": 1640898422566,
    "execution_millis": 12,
    "deepnote_output_heights": [
     611
    ],
    "deepnote_app_coordinates": {
     "x": 0,
     "y": 72,
     "w": 12,
     "h": 5
    },
    "deepnote_cell_type": "code"
   },
   "source": "#Brainstorming how to categorize technical vs managerial \n# engineering wordset ['engineer', 'programmer', 'developer', 'scientist', 'architect']\n# manager wordset ['chief', 'head of', 'vp ', 'vice president', 'manager', 'director', 'lead']\n# ENGINEERING MANAGER must have '\n# ENGINEER iff has 'engineer' then engineer\n\n[s for s in list(df.title)]",
   "execution_count": 13,
   "outputs": [
    {
     "output_type": "execute_result",
     "execution_count": 13,
     "data": {
      "text/plain": "['Brand Success Manager',\n 'Senior Sales Consultant',\n 'VP, Sales',\n 'Head of Partner Success',\n 'Head of Marketing',\n 'VP of Sales for Global B2B Marketplace (AI Tech Real Estate)',\n 'Software Developer required for Global B2B Marketplace (AI/ML Tech Real Estate)',\n 'Marketing Manager sought for Global B2B Marketplace (AI Tech Real Estate)',\n 'VP Marketing',\n 'Director of Product Marketing',\n 'Staff Data Engineer - Product Development',\n 'Head of Marketing',\n 'Senior Software Engineer (early hire)',\n 'Director, Product Operations',\n 'Sr. Information Security Manager',\n 'Sr. Product Manager',\n 'Design Director',\n 'Sales Development Representative',\n 'Lead Backend Engineer - Integrations',\n 'Senior Software Engineer - Full Stack',\n 'Lead Engineer, SRE (Remote)',\n 'Senior Mobile Engineer',\n 'Sr. Director of Brand Strategy- Remote within the US or In Office (PA, CA, UT)',\n 'Senior Product Designer UX/UI - Remote within the US or In Office',\n 'UX Designer - Remote within the US or In Office (PA, CA, UT)',\n 'Senior Site Reliability Engineer (DevOps Engineer, Production Engineer)',\n 'Product Manager',\n 'Head of Consumer Insights',\n 'Salesforce + RevOps Consultant | Work with High-Growth Startups',\n 'Back End Engineer (Fintech and Payments)',\n 'Customer Success Associate/Manager',\n 'Sales Development Representative',\n 'Content Designer',\n 'Software Engineer',\n 'Sr. Product Manager',\n 'Product Designer',\n 'Software Engineer, Design Integrations',\n 'Senior Software Engineer',\n 'Full Stack Software Engineer',\n 'Sr Software Engineer',\n 'Senior Analyst',\n 'Account Executive',\n 'Director of Operations',\n 'Head of Product Marketing',\n 'Sales Development Representative',\n 'Sales Development Representative (Contract)',\n 'Demand Gen Lead',\n 'Founding Full Stack Engineer',\n 'Lead Engineer for Fintech Startup',\n 'Product Manager, Finance',\n 'Associate Product Manager',\n 'Investment Analyst/Associate',\n 'Blockchain Developer',\n 'Product Marketing Lead',\n 'Backend Engineer',\n 'Senior Software Engineer',\n 'Backend Software Engineer',\n 'Developer Advocate',\n 'Full Stack Software Engineer',\n 'Sales Development Representative',\n 'Account Executive',\n '🧑\\u200d🤝\\u200d🧑 Scientific Community Evangelist 🧑\\u200d🤝\\u200d🧑',\n '💎 Head of Design 💎',\n '🎈Head of Marketing🎈',\n 'Director of Talent',\n 'Director of Operations',\n 'Data Engineer (Remote)',\n 'Full Stack Software Engineer',\n 'Sr. Blockchain Engineer',\n 'API Sales - Account Executive',\n 'Backend Engineer (Python, AWS, incorporates commercial blockchain)',\n 'Senior UI Designer',\n 'Talent Development Manager',\n 'Senior Account Executive',\n 'Backend Engineer',\n 'Full Stack Engineer',\n 'Customer Engagement Specialist 2nd Shift 1pm to 10pm',\n 'Customer Engagement Specialist 1st Shift 7am to 4pm',\n 'Full Stack Software Engineer',\n 'Technical Recruiting Lead (remote)',\n 'Senior Mobile Engineer',\n 'Senior DevOps Engineer',\n 'Account Executive',\n 'Sales Development Representative',\n 'Product Designer',\n 'Head of Product Design',\n 'Head of Recruiting',\n 'Full Stack Software Engineer',\n 'Marketing & Growth Lead',\n 'Software Engineer',\n 'Senior Analyst, Acquisitions & Development (Remote)',\n 'VP, Real Estate Platform Partnerships (Remote)',\n 'Revenue and Distribution Associate (Senior Analyst) (Remote)',\n 'Head of Content Marketing',\n 'UX Researcher',\n 'Senior Full Stack Engineer',\n 'Marketing Generalist',\n 'Chief Marketing Officer',\n 'Full Stack Engineer',\n 'Account Executive, Streaming Channels',\n 'Designer (UI/UX/Product)',\n 'Full Stack Software Engineer',\n 'Senior Software Engineer',\n 'Vice President of Sales',\n 'Brand Success Manager',\n 'Senior Sales Consultant',\n 'Senior Frontend Engineer (U.S.)',\n 'Senior Cloud Engineer (U.S.)',\n 'CTO',\n 'Sales Development Intern',\n 'PR and Marketing Intern',\n 'Data Operations Engineer',\n 'Underwriter & Data Scientist',\n 'Talent Sourcer',\n 'Project Manager',\n 'Senior ML Engineer',\n 'Senior Fullstack Engineer',\n 'Data Engineer',\n 'Backend Engineer (.NET)',\n 'Senior iOS Developer',\n 'Senior Marketing Manager, Web',\n 'Senior Product Designer',\n 'Sales Operations Manager',\n 'Senior Data Scientist',\n 'Account Executive',\n 'Executive Assistant',\n 'Customer Success Manager',\n 'Director of Engineering',\n 'Director of Product',\n 'Mid/Senior Front-End Engineer (React.js)',\n 'Head of Consumer Insights',\n 'Salesforce + RevOps Consultant | Work with High-Growth Startups',\n 'Senior Frontend Engineer at a Music Data Startup',\n 'Senior UI Designer at Chartmetric, a Music Data Analytics Startup',\n 'Lead Full-stack Engineer at Chartmetric, a Music Data Analytics Startup',\n 'Director of Product Marketing',\n 'Senior Software Engineer',\n 'Product Manager (Email & Popups)',\n 'Senior Software Engineer, Backend',\n 'Full Stack Software Engineer',\n 'Deployment Lead',\n 'Director of Engineering',\n 'Account Executive, New Business',\n 'Marketing Director',\n 'Lead Knowledge Graph Engineer',\n 'Senior Product Designer',\n 'Senior Account Executive - Oregon/Washington',\n 'Senior Account Executive - Bay Area',\n 'Full Stack Engineer',\n 'Product Manager',\n 'Senior Product Manager (SaaS)',\n 'Product Manager',\n 'Embedded QA Engineer',\n 'Sales Development Representative',\n 'Head of Customer Success',\n 'Internal Recruiter',\n 'Customer Success Engineer',\n 'Full Stack Developer (NodeJS)',\n 'Junior Sales Executive, Healthcare SaaS (Remote)',\n 'Marketing Associate',\n 'Investment Analyst/Associate',\n 'Blockchain Developer',\n 'Product UX Designer',\n 'Founding Engineer',\n 'Director, Customer Experience',\n 'Employee Wellness Content Expert',\n 'Sales Executive',\n 'Director of Customer Management and Support',\n 'SaaS Software Engineer',\n 'Senior Software Engineer',\n 'Inside Sales Account Executive',\n 'Sales Development Representative',\n 'Sales Development Representative',\n 'Python/Django Developer for Rapidly Growing Startup',\n 'CTO/Head of Engineering for rapidly growing startup',\n 'Generalist UI/UX Designer',\n 'Sr Developer',\n 'Controller',\n 'Customer Engagement Specialist 2nd Shift 1pm to 10pm',\n 'Customer Engagement Specialist 1st Shift 7am to 4pm',\n 'Bot Experience Composer',\n 'Software Quality Assurance Engineer',\n 'Senior Software Engineer',\n 'Product Mangager',\n 'Senior Software Engineer',\n 'Senior Frontend (UI/UX) Engineer',\n 'Strategic Account Executive',\n 'Digital Marketing Manager',\n 'Software Engineer - MacOS - Swift/Objective C/AppleScript',\n 'Research Analyst - Part Time',\n 'Business Analyst - Revenue and Forecasting',\n 'Brand Success Manager',\n 'VP of Engineering',\n 'Customer Experience Manager',\n 'Data Scientist / Senior DataScientist',\n 'Founding Fullstack Software Engineer',\n 'RED ALERT ***Unicorn Sighting*** Product Manager / Marketing Manager',\n 'Customer Success Manager',\n 'Sales Engineer',\n 'Outbound Business Development Representative',\n 'VP of Engineering',\n 'Founding Engineer (Front-End)',\n 'Brand Success Manager',\n 'Senior Sales Consultant',\n 'Internship in software development: C/C++',\n 'Chief of Design & UX/UI',\n 'Chief Technology Officer',\n 'Senior Python Engineer - Remote',\n 'Senior Python Engineer - Remote',\n 'Customer Support Representative (Warehouse Operations Specialist) - Remote',\n 'Senior Revenue Accountant',\n 'Head of Account Based Marketing (ABM)',\n 'Experienced Software Engineer, Notebook',\n 'Solutions Architect',\n 'Systems Support Engineer',\n 'Systems Support Engineer',\n 'Systems Support Engineer',\n 'Director, Sales Compensation',\n 'Product Recruiting Manager',\n 'Senior Product Manager - Experimentation',\n 'Product Manager',\n 'Partner Marketing Manager',\n 'Talent Coordinator',\n 'Content Marketing Manager',\n 'Account Executive',\n 'Sales Manager',\n 'SportsOS Communications Lead',\n 'Senior Software Engineer',\n 'Quality Analyst Engineer',\n 'Business Development, Wineries',\n 'Growth Marketing, Consumer',\n 'Product Designer, Consumer',\n 'Head of Consumer Insights',\n 'Salesforce + RevOps Consultant | Work with High-Growth Startups',\n 'Recruiting Operations Manager',\n 'Senior Technical Sourcer',\n 'Market Development Representative',\n 'Regional Vice President of Sales: West',\n 'VP of Product Management',\n 'Principal UX Designer',\n 'Marketing Manager',\n 'Content Marketing Manager',\n 'Senior Account Executive, Northern Europe',\n 'Director of Marketing (Open to: LA, SF, Chi, NYC, Miami)',\n 'Product Marketing Manager, Consumer (Open to: SF, LA, CHI, NY, MIA)',\n 'Lead Technical Recruiter',\n 'Senior Software Engineer, Constellation Services',\n 'Applied Research Scientist',\n 'Space Services Customer Success Engineer',\n 'Senior Software Engineer - (Ruby on Rails/Java, API Design)',\n 'Senior Software Engineer - (Ruby on Rails/Java, API Design)',\n 'Senior Engineering Manager - Enterprise Backend Services',\n 'Sales Development Manager',\n 'Technical Support Engineer',\n 'Director, Sales Operations and Strategy',\n 'Marketing Program Manager',\n 'Solutions Engineer',\n 'Enterprise Account Executive',\n 'Developer Advocate (Frontend / Fullstack)',\n 'Growth Product Manager',\n 'Developer Advocate (Backend)',\n 'Customer Success Operations Manager',\n 'Investment Analyst/Associate',\n 'Blockchain Developer',\n 'Multilingual Customer Support Representative - English, Spanish, Portuguese (Remote)',\n 'Customer Service Representative - Remote',\n 'Customer Service Representative - Remote',\n 'Retention Marketer/Content Creator',\n 'Senior Backend Developer',\n 'Senior Communications Manager - Solutions',\n 'Senior Sales Engineer - Solutions',\n 'Senior Communications Manager - API Platform',\n 'Manager, Corporate FP&A',\n 'Senior Accountant, Payroll',\n 'Sr Manager, Payroll Accounting',\n 'Sr. Manager, Technical Implementation',\n 'Sr. Technical Recruiter',\n 'Deal Desk Specialist',\n 'Senior Sales Executive',\n 'Customer Success Manager',\n 'Inside Sales Representative',\n 'Founder Success Manager',\n 'Principal Perception Engineer',\n 'Service Desk Lead',\n 'Staff Test Engineer - Testing Tools and Methods',\n 'Business Development Representative (Junior SaaS Sales Program)',\n 'Account Executive']"
     },
     "metadata": {}
    }
   ]
  },
  {
   "cell_type": "code",
   "metadata": {
    "tags": [],
    "cell_id": "00004-5037cd96-c478-4516-b0ae-a4dbbfe8af09",
    "deepnote_to_be_reexecuted": false,
    "source_hash": "10517bca",
    "execution_start": 1640898422592,
    "execution_millis": 8,
    "deepnote_app_coordinates": {
     "x": 0,
     "y": 78,
     "w": 12,
     "h": 5
    },
    "deepnote_cell_type": "code"
   },
   "source": "#formal categorization starts here\ndf['Manager'] = df['title'].map(lambda title: any(word in title.lower() for word in ['chief', 'head of', 'vp ', 'vice president', 'mangager', 'manager', 'director', 'lead', 'cto']))\ndf['Technical'] = df['title'].map(lambda title: any(word in title.lower() for word in ['engineer', 'programmer', 'developer', 'scientist', 'architect', 'cto', 'software development']))",
   "execution_count": 14,
   "outputs": []
  },
  {
   "cell_type": "code",
   "metadata": {
    "tags": [],
    "cell_id": "00005-f1819fdb-54e7-4e8a-b526-e119e7ded731",
    "deepnote_to_be_reexecuted": false,
    "source_hash": "90560874",
    "execution_start": 1640898422602,
    "execution_millis": 15,
    "deepnote_output_heights": [
     21.1875
    ],
    "deepnote_app_coordinates": {
     "x": 0,
     "y": 84,
     "w": 12,
     "h": 5
    },
    "deepnote_cell_type": "code"
   },
   "source": "df['Technical'] = df['Technical'].map(int)\ndf['Manager'] = df['Manager'].map(int)\ndf['Technical Manager'] = df['Technical'] * df['Manager']\ndf['Only Technical'] = (df['Technical'] == 1) & (df['Manager'] == 0)\ndf['Only Manager'] = (df['Technical'] == 0) & (df['Manager'] == 1)\ndf['Neither'] = (df['Manager'] == 0) & (df['Technical'] == 0)\n\ndf['Company size'] = df['companySize'].replace({\n    '1-10 EMPLOYEES': 5,\n    '11-50 EMPLOYEES': 35,\n    '51-200 EMPLOYEES': 125,\n    '201-500 EMPLOYEES': 350})",
   "execution_count": 15,
   "outputs": []
  },
  {
   "cell_type": "code",
   "metadata": {
    "tags": [],
    "cell_id": "00006-3a890f76-d316-4440-b85a-e5a7beec8eb1",
    "deepnote_to_be_reexecuted": false,
    "source_hash": "b551ff9a",
    "execution_start": 1640898422627,
    "execution_millis": 91,
    "deepnote_output_heights": [
     232.3125
    ],
    "deepnote_app_coordinates": {
     "x": 0,
     "y": 90,
     "w": 12,
     "h": 5
    },
    "deepnote_cell_type": "code"
   },
   "source": "#Visualize categorization results\nplot_df = df.groupby(['Company size']).mean()\nplot_df['Non-technical'] = 1 - plot_df['Technical']\nplot_df['Non-manager'] = 1 - plot_df['Manager']\nplot_df *= 100\nplot_df.rename(columns={'Neither': 'Non-technical Non-manager'}, inplace=True)\nplot_df",
   "execution_count": 16,
   "outputs": [
    {
     "output_type": "execute_result",
     "execution_count": 16,
     "data": {
      "application/vnd.deepnote.dataframe.v3+json": {
       "column_count": 9,
       "row_count": 4,
       "columns": [
        {
         "name": "located",
         "dtype": "float64",
         "stats": {
          "unique_count": 4,
          "nan_count": 0,
          "min": "83.33333333333334",
          "max": "93.57142857142857",
          "histogram": [
           {
            "bin_start": 83.33333333333334,
            "bin_end": 84.35714285714286,
            "count": 1
           },
           {
            "bin_start": 84.35714285714286,
            "bin_end": 85.3809523809524,
            "count": 0
           },
           {
            "bin_start": 85.3809523809524,
            "bin_end": 86.40476190476191,
            "count": 0
           },
           {
            "bin_start": 86.40476190476191,
            "bin_end": 87.42857142857143,
            "count": 0
           },
           {
            "bin_start": 87.42857142857143,
            "bin_end": 88.45238095238096,
            "count": 0
           },
           {
            "bin_start": 88.45238095238096,
            "bin_end": 89.47619047619048,
            "count": 0
           },
           {
            "bin_start": 89.47619047619048,
            "bin_end": 90.5,
            "count": 0
           },
           {
            "bin_start": 90.5,
            "bin_end": 91.52380952380952,
            "count": 0
           },
           {
            "bin_start": 91.52380952380952,
            "bin_end": 92.54761904761905,
            "count": 1
           },
           {
            "bin_start": 92.54761904761905,
            "bin_end": 93.57142857142857,
            "count": 2
           }
          ]
         }
        },
        {
         "name": "Manager",
         "dtype": "float64",
         "stats": {
          "unique_count": 4,
          "nan_count": 0,
          "min": "22.727272727272727",
          "max": "50.0",
          "histogram": [
           {
            "bin_start": 22.727272727272727,
            "bin_end": 25.454545454545453,
            "count": 1
           },
           {
            "bin_start": 25.454545454545453,
            "bin_end": 28.18181818181818,
            "count": 0
           },
           {
            "bin_start": 28.18181818181818,
            "bin_end": 30.90909090909091,
            "count": 0
           },
           {
            "bin_start": 30.90909090909091,
            "bin_end": 33.63636363636364,
            "count": 0
           },
           {
            "bin_start": 33.63636363636364,
            "bin_end": 36.36363636363636,
            "count": 0
           },
           {
            "bin_start": 36.36363636363636,
            "bin_end": 39.09090909090909,
            "count": 2
           },
           {
            "bin_start": 39.09090909090909,
            "bin_end": 41.81818181818182,
            "count": 0
           },
           {
            "bin_start": 41.81818181818182,
            "bin_end": 44.54545454545455,
            "count": 0
           },
           {
            "bin_start": 44.54545454545455,
            "bin_end": 47.27272727272727,
            "count": 0
           },
           {
            "bin_start": 47.27272727272727,
            "bin_end": 50,
            "count": 1
           }
          ]
         }
        },
        {
         "name": "Technical",
         "dtype": "float64",
         "stats": {
          "unique_count": 4,
          "nan_count": 0,
          "min": "36.470588235294116",
          "max": "52.27272727272727",
          "histogram": [
           {
            "bin_start": 36.470588235294116,
            "bin_end": 38.05080213903743,
            "count": 1
           },
           {
            "bin_start": 38.05080213903743,
            "bin_end": 39.63101604278075,
            "count": 0
           },
           {
            "bin_start": 39.63101604278075,
            "bin_end": 41.211229946524064,
            "count": 1
           },
           {
            "bin_start": 41.211229946524064,
            "bin_end": 42.79144385026738,
            "count": 0
           },
           {
            "bin_start": 42.79144385026738,
            "bin_end": 44.3716577540107,
            "count": 0
           },
           {
            "bin_start": 44.3716577540107,
            "bin_end": 45.95187165775401,
            "count": 1
           },
           {
            "bin_start": 45.95187165775401,
            "bin_end": 47.532085561497325,
            "count": 0
           },
           {
            "bin_start": 47.532085561497325,
            "bin_end": 49.11229946524064,
            "count": 0
           },
           {
            "bin_start": 49.11229946524064,
            "bin_end": 50.69251336898396,
            "count": 0
           },
           {
            "bin_start": 50.69251336898396,
            "bin_end": 52.27272727272727,
            "count": 1
           }
          ]
         }
        },
        {
         "name": "Technical Manager",
         "dtype": "float64",
         "stats": {
          "unique_count": 4,
          "nan_count": 0,
          "min": "4.545454545454546",
          "max": "11.428571428571429",
          "histogram": [
           {
            "bin_start": 4.545454545454546,
            "bin_end": 5.233766233766234,
            "count": 1
           },
           {
            "bin_start": 5.233766233766234,
            "bin_end": 5.922077922077922,
            "count": 1
           },
           {
            "bin_start": 5.922077922077922,
            "bin_end": 6.6103896103896105,
            "count": 0
           },
           {
            "bin_start": 6.6103896103896105,
            "bin_end": 7.2987012987013,
            "count": 0
           },
           {
            "bin_start": 7.2987012987013,
            "bin_end": 7.987012987012987,
            "count": 0
           },
           {
            "bin_start": 7.987012987012987,
            "bin_end": 8.675324675324676,
            "count": 0
           },
           {
            "bin_start": 8.675324675324676,
            "bin_end": 9.363636363636363,
            "count": 0
           },
           {
            "bin_start": 9.363636363636363,
            "bin_end": 10.051948051948052,
            "count": 1
           },
           {
            "bin_start": 10.051948051948052,
            "bin_end": 10.740259740259742,
            "count": 0
           },
           {
            "bin_start": 10.740259740259742,
            "bin_end": 11.428571428571429,
            "count": 1
           }
          ]
         }
        },
        {
         "name": "Only Technical",
         "dtype": "float64",
         "stats": {
          "unique_count": 4,
          "nan_count": 0,
          "min": "27.058823529411764",
          "max": "47.72727272727273",
          "histogram": [
           {
            "bin_start": 27.058823529411764,
            "bin_end": 29.12566844919786,
            "count": 1
           },
           {
            "bin_start": 29.12566844919786,
            "bin_end": 31.192513368983956,
            "count": 1
           },
           {
            "bin_start": 31.192513368983956,
            "bin_end": 33.25935828877005,
            "count": 0
           },
           {
            "bin_start": 33.25935828877005,
            "bin_end": 35.32620320855615,
            "count": 0
           },
           {
            "bin_start": 35.32620320855615,
            "bin_end": 37.393048128342244,
            "count": 0
           },
           {
            "bin_start": 37.393048128342244,
            "bin_end": 39.45989304812834,
            "count": 1
           },
           {
            "bin_start": 39.45989304812834,
            "bin_end": 41.52673796791444,
            "count": 0
           },
           {
            "bin_start": 41.52673796791444,
            "bin_end": 43.593582887700535,
            "count": 0
           },
           {
            "bin_start": 43.593582887700535,
            "bin_end": 45.66042780748663,
            "count": 0
           },
           {
            "bin_start": 45.66042780748663,
            "bin_end": 47.72727272727273,
            "count": 1
           }
          ]
         }
        },
        {
         "name": "Only Manager",
         "dtype": "float64",
         "stats": {
          "unique_count": 4,
          "nan_count": 0,
          "min": "18.181818181818183",
          "max": "44.44444444444444",
          "histogram": [
           {
            "bin_start": 18.181818181818183,
            "bin_end": 20.80808080808081,
            "count": 1
           },
           {
            "bin_start": 20.80808080808081,
            "bin_end": 23.434343434343436,
            "count": 0
           },
           {
            "bin_start": 23.434343434343436,
            "bin_end": 26.060606060606062,
            "count": 0
           },
           {
            "bin_start": 26.060606060606062,
            "bin_end": 28.686868686868685,
            "count": 2
           },
           {
            "bin_start": 28.686868686868685,
            "bin_end": 31.313131313131315,
            "count": 0
           },
           {
            "bin_start": 31.313131313131315,
            "bin_end": 33.93939393939394,
            "count": 0
           },
           {
            "bin_start": 33.93939393939394,
            "bin_end": 36.56565656565657,
            "count": 0
           },
           {
            "bin_start": 36.56565656565657,
            "bin_end": 39.19191919191919,
            "count": 0
           },
           {
            "bin_start": 39.19191919191919,
            "bin_end": 41.81818181818181,
            "count": 0
           },
           {
            "bin_start": 41.81818181818181,
            "bin_end": 44.44444444444444,
            "count": 1
           }
          ]
         }
        },
        {
         "name": "Non-technical Non-manager",
         "dtype": "float64",
         "stats": {
          "unique_count": 4,
          "nan_count": 0,
          "min": "11.11111111111111",
          "max": "35.294117647058826",
          "histogram": [
           {
            "bin_start": 11.11111111111111,
            "bin_end": 13.529411764705882,
            "count": 1
           },
           {
            "bin_start": 13.529411764705882,
            "bin_end": 15.947712418300654,
            "count": 0
           },
           {
            "bin_start": 15.947712418300654,
            "bin_end": 18.366013071895424,
            "count": 0
           },
           {
            "bin_start": 18.366013071895424,
            "bin_end": 20.784313725490197,
            "count": 0
           },
           {
            "bin_start": 20.784313725490197,
            "bin_end": 23.20261437908497,
            "count": 0
           },
           {
            "bin_start": 23.20261437908497,
            "bin_end": 25.62091503267974,
            "count": 0
           },
           {
            "bin_start": 25.62091503267974,
            "bin_end": 28.039215686274513,
            "count": 0
           },
           {
            "bin_start": 28.039215686274513,
            "bin_end": 30.457516339869283,
            "count": 1
           },
           {
            "bin_start": 30.457516339869283,
            "bin_end": 32.875816993464056,
            "count": 1
           },
           {
            "bin_start": 32.875816993464056,
            "bin_end": 35.294117647058826,
            "count": 1
           }
          ]
         }
        },
        {
         "name": "Non-technical",
         "dtype": "float64",
         "stats": {
          "unique_count": 4,
          "nan_count": 0,
          "min": "47.72727272727273",
          "max": "63.52941176470588",
          "histogram": [
           {
            "bin_start": 47.72727272727273,
            "bin_end": 49.30748663101604,
            "count": 1
           },
           {
            "bin_start": 49.30748663101604,
            "bin_end": 50.887700534759354,
            "count": 0
           },
           {
            "bin_start": 50.887700534759354,
            "bin_end": 52.467914438502675,
            "count": 0
           },
           {
            "bin_start": 52.467914438502675,
            "bin_end": 54.04812834224599,
            "count": 0
           },
           {
            "bin_start": 54.04812834224599,
            "bin_end": 55.6283422459893,
            "count": 1
           },
           {
            "bin_start": 55.6283422459893,
            "bin_end": 57.208556149732615,
            "count": 0
           },
           {
            "bin_start": 57.208556149732615,
            "bin_end": 58.78877005347593,
            "count": 0
           },
           {
            "bin_start": 58.78877005347593,
            "bin_end": 60.36898395721924,
            "count": 1
           },
           {
            "bin_start": 60.36898395721924,
            "bin_end": 61.94919786096256,
            "count": 0
           },
           {
            "bin_start": 61.94919786096256,
            "bin_end": 63.52941176470588,
            "count": 1
           }
          ]
         }
        },
        {
         "name": "Non-manager",
         "dtype": "float64",
         "stats": {
          "unique_count": 4,
          "nan_count": 0,
          "min": "50.0",
          "max": "77.27272727272727",
          "histogram": [
           {
            "bin_start": 50,
            "bin_end": 52.72727272727273,
            "count": 1
           },
           {
            "bin_start": 52.72727272727273,
            "bin_end": 55.45454545454545,
            "count": 0
           },
           {
            "bin_start": 55.45454545454545,
            "bin_end": 58.18181818181818,
            "count": 0
           },
           {
            "bin_start": 58.18181818181818,
            "bin_end": 60.90909090909091,
            "count": 0
           },
           {
            "bin_start": 60.90909090909091,
            "bin_end": 63.63636363636363,
            "count": 2
           },
           {
            "bin_start": 63.63636363636363,
            "bin_end": 66.36363636363636,
            "count": 0
           },
           {
            "bin_start": 66.36363636363636,
            "bin_end": 69.0909090909091,
            "count": 0
           },
           {
            "bin_start": 69.0909090909091,
            "bin_end": 71.81818181818181,
            "count": 0
           },
           {
            "bin_start": 71.81818181818181,
            "bin_end": 74.54545454545453,
            "count": 0
           },
           {
            "bin_start": 74.54545454545453,
            "bin_end": 77.27272727272727,
            "count": 1
           }
          ]
         }
        },
        {
         "name": "_deepnote_index_column",
         "dtype": "int64"
        }
       ],
       "rows": [
        {
         "located": 93.18181818181817,
         "Manager": 22.727272727272727,
         "Technical": 52.27272727272727,
         "Technical Manager": 4.545454545454546,
         "Only Technical": 47.72727272727273,
         "Only Manager": 18.181818181818183,
         "Non-technical Non-manager": 29.545454545454547,
         "Non-technical": 47.72727272727273,
         "Non-manager": 77.27272727272727,
         "_deepnote_index_column": 5
        },
        {
         "located": 93.57142857142857,
         "Manager": 37.857142857142854,
         "Technical": 40.714285714285715,
         "Technical Manager": 11.428571428571429,
         "Only Technical": 29.28571428571429,
         "Only Manager": 26.42857142857143,
         "Non-technical Non-manager": 32.857142857142854,
         "Non-technical": 59.285714285714285,
         "Non-manager": 62.142857142857146,
         "_deepnote_index_column": 35
        },
        {
         "located": 91.76470588235294,
         "Manager": 37.64705882352941,
         "Technical": 36.470588235294116,
         "Technical Manager": 9.411764705882353,
         "Only Technical": 27.058823529411764,
         "Only Manager": 28.235294117647058,
         "Non-technical Non-manager": 35.294117647058826,
         "Non-technical": 63.52941176470588,
         "Non-manager": 62.35294117647059,
         "_deepnote_index_column": 125
        },
        {
         "located": 83.33333333333334,
         "Manager": 50,
         "Technical": 44.44444444444444,
         "Technical Manager": 5.555555555555555,
         "Only Technical": 38.88888888888889,
         "Only Manager": 44.44444444444444,
         "Non-technical Non-manager": 11.11111111111111,
         "Non-technical": 55.55555555555556,
         "Non-manager": 50,
         "_deepnote_index_column": 350
        }
       ]
      },
      "text/plain": "                located    Manager  Technical  Technical Manager  \\\nCompany size                                                       \n5             93.181818  22.727273  52.272727           4.545455   \n35            93.571429  37.857143  40.714286          11.428571   \n125           91.764706  37.647059  36.470588           9.411765   \n350           83.333333  50.000000  44.444444           5.555556   \n\n              Only Technical  Only Manager  Non-technical Non-manager  \\\nCompany size                                                            \n5                  47.727273     18.181818                  29.545455   \n35                 29.285714     26.428571                  32.857143   \n125                27.058824     28.235294                  35.294118   \n350                38.888889     44.444444                  11.111111   \n\n              Non-technical  Non-manager  \nCompany size                              \n5                 47.727273    77.272727  \n35                59.285714    62.142857  \n125               63.529412    62.352941  \n350               55.555556    50.000000  ",
      "text/html": "<div>\n<style scoped>\n    .dataframe tbody tr th:only-of-type {\n        vertical-align: middle;\n    }\n\n    .dataframe tbody tr th {\n        vertical-align: top;\n    }\n\n    .dataframe thead th {\n        text-align: right;\n    }\n</style>\n<table border=\"1\" class=\"dataframe\">\n  <thead>\n    <tr style=\"text-align: right;\">\n      <th></th>\n      <th>located</th>\n      <th>Manager</th>\n      <th>Technical</th>\n      <th>Technical Manager</th>\n      <th>Only Technical</th>\n      <th>Only Manager</th>\n      <th>Non-technical Non-manager</th>\n      <th>Non-technical</th>\n      <th>Non-manager</th>\n    </tr>\n    <tr>\n      <th>Company size</th>\n      <th></th>\n      <th></th>\n      <th></th>\n      <th></th>\n      <th></th>\n      <th></th>\n      <th></th>\n      <th></th>\n      <th></th>\n    </tr>\n  </thead>\n  <tbody>\n    <tr>\n      <th>5</th>\n      <td>93.181818</td>\n      <td>22.727273</td>\n      <td>52.272727</td>\n      <td>4.545455</td>\n      <td>47.727273</td>\n      <td>18.181818</td>\n      <td>29.545455</td>\n      <td>47.727273</td>\n      <td>77.272727</td>\n    </tr>\n    <tr>\n      <th>35</th>\n      <td>93.571429</td>\n      <td>37.857143</td>\n      <td>40.714286</td>\n      <td>11.428571</td>\n      <td>29.285714</td>\n      <td>26.428571</td>\n      <td>32.857143</td>\n      <td>59.285714</td>\n      <td>62.142857</td>\n    </tr>\n    <tr>\n      <th>125</th>\n      <td>91.764706</td>\n      <td>37.647059</td>\n      <td>36.470588</td>\n      <td>9.411765</td>\n      <td>27.058824</td>\n      <td>28.235294</td>\n      <td>35.294118</td>\n      <td>63.529412</td>\n      <td>62.352941</td>\n    </tr>\n    <tr>\n      <th>350</th>\n      <td>83.333333</td>\n      <td>50.000000</td>\n      <td>44.444444</td>\n      <td>5.555556</td>\n      <td>38.888889</td>\n      <td>44.444444</td>\n      <td>11.111111</td>\n      <td>55.555556</td>\n      <td>50.000000</td>\n    </tr>\n  </tbody>\n</table>\n</div>"
     },
     "metadata": {}
    }
   ]
  },
  {
   "cell_type": "code",
   "metadata": {
    "tags": [],
    "cell_id": "00012-2811034b-eb1e-4ef4-9571-aa59ccbb445d",
    "deepnote_to_be_reexecuted": false,
    "source_hash": "f32600bb",
    "execution_start": 1640898422720,
    "execution_millis": 275591,
    "deepnote_app_coordinates": {
     "x": 0,
     "y": 96,
     "w": 12,
     "h": 5
    },
    "deepnote_cell_type": "code"
   },
   "source": "plot_df = plot_df.rename(index={5: 'Small', 35: 'Medium', 125: 'Large', 350: 'X-Large'})",
   "execution_count": 17,
   "outputs": []
  },
  {
   "cell_type": "code",
   "metadata": {
    "tags": [],
    "cell_id": "00007-dc508d31-e5b5-4177-8626-5a673f30d126",
    "deepnote_to_be_reexecuted": false,
    "source_hash": "c19b77bb",
    "execution_start": 1640898422785,
    "execution_millis": 17099,
    "deepnote_output_heights": [
     263.71875
    ],
    "deepnote_app_coordinates": {
     "x": 0,
     "y": 102,
     "w": 12,
     "h": 5
    },
    "deepnote_cell_type": "code"
   },
   "source": "# plot_df['only-manager'] + plot_df['only-technical'] + plot_df['technical-manager'] + plot_df['neither']\nlgd = plot_df.plot.bar(\n    y=['Only Technical', 'Technical Manager', 'Only Manager', 'Non-technical Non-manager'],\n    stacked=True, figsize=(8, 4), color=['blue', 'green', 'orange', 'red'],\n    rot=0\n    )\n\n    \n\ny_offset = -4\nfor bar in lgd.patches:\n  lgd.text(\n      # Put the text in the middle of each bar. get_x returns the start\n      # so we add half the width to get to the middle.\n      bar.get_x() + bar.get_width() / 2,\n      # Vertically, add the height of the bar to the start of the bar,\n      # along with the offset.\n      bar.get_height() + bar.get_y() + y_offset,\n      # This is actual value we'll show.\n      str(round(bar.get_height())) + '%',\n      # Center the labels and style them a bit.\n      ha='center',\n      color='w',\n      weight='bold',\n      size=10\n  )\n\n  lgdbbox = lgd.legend(bbox_to_anchor=(1.0, 1.0))\n\n  lgdbbox.figure.savefig('figure2.png', dpi=400, bbox_extra_artists=(lgd,), bbox_inches='tight')",
   "execution_count": 18,
   "outputs": [
    {
     "data": {
      "text/plain": "<Figure size 576x288 with 1 Axes>",
      "image/png": "[encoded data removed]"
     },
     "metadata": {
      "needs_background": "light",
      "image/png": {
       "width": 668,
       "height": 262
      }
     },
     "output_type": "display_data"
    }
   ]
  },
  {
   "cell_type": "code",
   "metadata": {
    "tags": [],
    "cell_id": "00008-5457b58a-f602-40e4-b07a-7bcd9989bb53",
    "deepnote_to_be_reexecuted": false,
    "source_hash": "5897f3ca",
    "execution_start": 1640898439888,
    "execution_millis": 8,
    "deepnote_app_coordinates": {
     "x": 0,
     "y": 108,
     "w": 12,
     "h": 5
    },
    "deepnote_cell_type": "code"
   },
   "source": "#output results file\ndf.to_csv('SoftwareS.csv', encoding='utf-8', index=False)",
   "execution_count": 19,
   "outputs": []
  },
  {
   "cell_type": "markdown",
   "source": "<a style='text-decoration:none;line-height:16px;display:flex;color:#5B5B62;padding:10px;justify-content:end;' href='https://deepnote.com?utm_source=created-in-deepnote-cell&projectId=5068e12e-86d4-41ab-999f-eafdd444beb8' target=\"_blank\">\n<img alt='Created in deepnote.com' style='display:inline;max-height:16px;margin:0px;margin-right:7.5px;' src='data:image/svg+xml;base64,PD94bWwgdmVyc2lvbj0iMS4wIiBlbmNvZGluZz0iVVRGLTgiPz4KPHN2ZyB3aWR0aD0iODBweCIgaGVpZ2h0PSI4MHB4IiB2aWV3Qm94PSIwIDAgODAgODAiIHZlcnNpb249IjEuMSIgeG1sbnM9Imh0dHA6Ly93d3cudzMub3JnLzIwMDAvc3ZnIiB4bWxuczp4bGluaz0iaHR0cDovL3d3dy53My5vcmcvMTk5OS94bGluayI+CiAgICA8IS0tIEdlbmVyYXRvcjogU2tldGNoIDU0LjEgKDc2NDkwKSAtIGh0dHBzOi8vc2tldGNoYXBwLmNvbSAtLT4KICAgIDx0aXRsZT5Hcm91cCAzPC90aXRsZT4KICAgIDxkZXNjPkNyZWF0ZWQgd2l0aCBTa2V0Y2guPC9kZXNjPgogICAgPGcgaWQ9IkxhbmRpbmciIHN0cm9rZT0ibm9uZSIgc3Ryb2tlLXdpZHRoPSIxIiBmaWxsPSJub25lIiBmaWxsLXJ1bGU9ImV2ZW5vZGQiPgogICAgICAgIDxnIGlkPSJBcnRib2FyZCIgdHJhbnNmb3JtPSJ0cmFuc2xhdGUoLTEyMzUuMDAwMDAwLCAtNzkuMDAwMDAwKSI+CiAgICAgICAgICAgIDxnIGlkPSJHcm91cC0zIiB0cmFuc2Zvcm09InRyYW5zbGF0ZSgxMjM1LjAwMDAwMCwgNzkuMDAwMDAwKSI+CiAgICAgICAgICAgICAgICA8cG9seWdvbiBpZD0iUGF0aC0yMCIgZmlsbD0iIzAyNjVCNCIgcG9pbnRzPSIyLjM3NjIzNzYyIDgwIDM4LjA0NzY2NjcgODAgNTcuODIxNzgyMiA3My44MDU3NTkyIDU3LjgyMTc4MjIgMzIuNzU5MjczOSAzOS4xNDAyMjc4IDMxLjY4MzE2ODMiPjwvcG9seWdvbj4KICAgICAgICAgICAgICAgIDxwYXRoIGQ9Ik0zNS4wMDc3MTgsODAgQzQyLjkwNjIwMDcsNzYuNDU0OTM1OCA0Ny41NjQ5MTY3LDcxLjU0MjI2NzEgNDguOTgzODY2LDY1LjI2MTk5MzkgQzUxLjExMjI4OTksNTUuODQxNTg0MiA0MS42NzcxNzk1LDQ5LjIxMjIyODQgMjUuNjIzOTg0Niw0OS4yMTIyMjg0IEMyNS40ODQ5Mjg5LDQ5LjEyNjg0NDggMjkuODI2MTI5Niw0My4yODM4MjQ4IDM4LjY0NzU4NjksMzEuNjgzMTY4MyBMNzIuODcxMjg3MSwzMi41NTQ0MjUgTDY1LjI4MDk3Myw2Ny42NzYzNDIxIEw1MS4xMTIyODk5LDc3LjM3NjE0NCBMMzUuMDA3NzE4LDgwIFoiIGlkPSJQYXRoLTIyIiBmaWxsPSIjMDAyODY4Ij48L3BhdGg+CiAgICAgICAgICAgICAgICA8cGF0aCBkPSJNMCwzNy43MzA0NDA1IEwyNy4xMTQ1MzcsMC4yNTcxMTE0MzYgQzYyLjM3MTUxMjMsLTEuOTkwNzE3MDEgODAsMTAuNTAwMzkyNyA4MCwzNy43MzA0NDA1IEM4MCw2NC45NjA0ODgyIDY0Ljc3NjUwMzgsNzkuMDUwMzQxNCAzNC4zMjk1MTEzLDgwIEM0Ny4wNTUzNDg5LDc3LjU2NzA4MDggNTMuNDE4MjY3Nyw3MC4zMTM2MTAzIDUzLjQxODI2NzcsNTguMjM5NTg4NSBDNTMuNDE4MjY3Nyw0MC4xMjg1NTU3IDM2LjMwMzk1NDQsMzcuNzMwNDQwNSAyNS4yMjc0MTcsMzcuNzMwNDQwNSBDMTcuODQzMDU4NiwzNy43MzA0NDA1IDkuNDMzOTE5NjYsMzcuNzMwNDQwNSAwLDM3LjczMDQ0MDUgWiIgaWQ9IlBhdGgtMTkiIGZpbGw9IiMzNzkzRUYiPjwvcGF0aD4KICAgICAgICAgICAgPC9nPgogICAgICAgIDwvZz4KICAgIDwvZz4KPC9zdmc+' > </img>\nCreated in <span style='font-weight:600;margin-left:4px;'>Deepnote</span></a>",
   "metadata": {
    "tags": [],
    "created_in_deepnote_cell": true,
    "deepnote_cell_type": "markdown"
   }
  }
 ],
 "nbformat": 4,
 "nbformat_minor": 2,
 "metadata": {
  "orig_nbformat": 2,
  "deepnote": {
   "is_reactive": false
  },
  "deepnote_notebook_id": "c7fcdb1f-2274-4a08-90f8-f74ea01812b4",
  "deepnote_execution_queue": [],
  "deepnote_app_layout": "article"
 }
}